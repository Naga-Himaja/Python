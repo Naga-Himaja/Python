{
  "nbformat": 4,
  "nbformat_minor": 5,
  "metadata": {
    "kernelspec": {
      "display_name": "Python 3",
      "language": "python",
      "name": "python3"
    },
    "language_info": {
      "codemirror_mode": {
        "name": "ipython",
        "version": 3
      },
      "file_extension": ".py",
      "mimetype": "text/x-python",
      "name": "python",
      "nbconvert_exporter": "python",
      "pygments_lexer": "ipython3",
      "version": "3.8.10"
    },
    "colab": {
      "name": "User_Input.ipynb",
      "provenance": [],
      "include_colab_link": true
    }
  },
  "cells": [
    {
      "cell_type": "markdown",
      "metadata": {
        "id": "view-in-github",
        "colab_type": "text"
      },
      "source": [
        "<a href=\"https://colab.research.google.com/github/Naga-Himaja/Naga-Himaja/blob/main/User_Input.ipynb\" target=\"_parent\"><img src=\"https://colab.research.google.com/assets/colab-badge.svg\" alt=\"Open In Colab\"/></a>"
      ]
    },
    {
      "cell_type": "code",
      "metadata": {
        "id": "0b4cc600"
      },
      "source": [
        "#If input is taken from the user, we use input() and its default type is string"
      ],
      "id": "0b4cc600",
      "execution_count": null,
      "outputs": []
    },
    {
      "cell_type": "code",
      "metadata": {
        "id": "2c441166",
        "outputId": "c631e682-079c-4cbf-f9f4-a59408c50bcb"
      },
      "source": [
        "x =input()"
      ],
      "id": "2c441166",
      "execution_count": null,
      "outputs": [
        {
          "output_type": "stream",
          "text": [
            "Himaja\n"
          ],
          "name": "stdout"
        }
      ]
    },
    {
      "cell_type": "code",
      "metadata": {
        "id": "10a4678f",
        "outputId": "c6265b65-efa5-40a0-cff6-4915249af14e"
      },
      "source": [
        "print(x)"
      ],
      "id": "10a4678f",
      "execution_count": null,
      "outputs": [
        {
          "output_type": "stream",
          "text": [
            "Himaja\n"
          ],
          "name": "stdout"
        }
      ]
    },
    {
      "cell_type": "code",
      "metadata": {
        "id": "3a48a5d2"
      },
      "source": [
        "#To change the type of the input, use int or float"
      ],
      "id": "3a48a5d2",
      "execution_count": null,
      "outputs": []
    },
    {
      "cell_type": "code",
      "metadata": {
        "id": "9f8dd20e",
        "outputId": "091b9f78-3137-4e8f-aed7-345621a90cc0"
      },
      "source": [
        "a=int(input(\"Enter a number : \"))"
      ],
      "id": "9f8dd20e",
      "execution_count": null,
      "outputs": [
        {
          "output_type": "stream",
          "text": [
            "Enter a number : 4\n"
          ],
          "name": "stdout"
        }
      ]
    },
    {
      "cell_type": "code",
      "metadata": {
        "id": "654601b0",
        "outputId": "a1403d8f-66af-416e-bb3f-898b0092087f"
      },
      "source": [
        "print(a)"
      ],
      "id": "654601b0",
      "execution_count": null,
      "outputs": [
        {
          "output_type": "stream",
          "text": [
            "4\n"
          ],
          "name": "stdout"
        }
      ]
    },
    {
      "cell_type": "code",
      "metadata": {
        "id": "ce6bc580"
      },
      "source": [
        "#While changing the type, make sure the type is int, else it is an error"
      ],
      "id": "ce6bc580",
      "execution_count": null,
      "outputs": []
    },
    {
      "cell_type": "code",
      "metadata": {
        "id": "b62d82fa",
        "outputId": "7236db08-e67f-4dc4-99bc-4cf3736fd35f"
      },
      "source": [
        "print(int(input(\"Enter a number : \")))"
      ],
      "id": "b62d82fa",
      "execution_count": null,
      "outputs": [
        {
          "output_type": "stream",
          "text": [
            "Enter a number : Hima\n"
          ],
          "name": "stdout"
        },
        {
          "output_type": "error",
          "ename": "ValueError",
          "evalue": "invalid literal for int() with base 10: 'Hima'",
          "traceback": [
            "\u001b[1;31m---------------------------------------------------------------------------\u001b[0m",
            "\u001b[1;31mValueError\u001b[0m                                Traceback (most recent call last)",
            "\u001b[1;32m<ipython-input-7-91f40b407547>\u001b[0m in \u001b[0;36m<module>\u001b[1;34m\u001b[0m\n\u001b[1;32m----> 1\u001b[1;33m \u001b[0mprint\u001b[0m\u001b[1;33m(\u001b[0m\u001b[0mint\u001b[0m\u001b[1;33m(\u001b[0m\u001b[0minput\u001b[0m\u001b[1;33m(\u001b[0m\u001b[1;34m\"Enter a number : \"\u001b[0m\u001b[1;33m)\u001b[0m\u001b[1;33m)\u001b[0m\u001b[1;33m)\u001b[0m\u001b[1;33m\u001b[0m\u001b[1;33m\u001b[0m\u001b[0m\n\u001b[0m",
            "\u001b[1;31mValueError\u001b[0m: invalid literal for int() with base 10: 'Hima'"
          ]
        }
      ]
    },
    {
      "cell_type": "code",
      "metadata": {
        "id": "95f8974f"
      },
      "source": [
        "#If an integer is entered without type conversion, there would be no error but it is considered a string"
      ],
      "id": "95f8974f",
      "execution_count": null,
      "outputs": []
    },
    {
      "cell_type": "code",
      "metadata": {
        "id": "59885d5d",
        "outputId": "cad55ac2-ef94-4249-d08f-bd7ccf56c148"
      },
      "source": [
        "c=input()"
      ],
      "id": "59885d5d",
      "execution_count": null,
      "outputs": [
        {
          "output_type": "stream",
          "text": [
            "7\n"
          ],
          "name": "stdout"
        }
      ]
    },
    {
      "cell_type": "code",
      "metadata": {
        "id": "764c25f8",
        "outputId": "3c5169cb-ab3e-4a74-c89e-5c0e4528a11e"
      },
      "source": [
        "print(type(c))"
      ],
      "id": "764c25f8",
      "execution_count": null,
      "outputs": [
        {
          "output_type": "stream",
          "text": [
            "<class 'str'>\n"
          ],
          "name": "stdout"
        }
      ]
    },
    {
      "cell_type": "code",
      "metadata": {
        "id": "805c73b6",
        "outputId": "11af3961-1990-457f-ed40-8af6a7af0413"
      },
      "source": [
        "v=c+1\n",
        "print(v)\n",
        "#The above example gives an error coz c is a string here and we cannot perform operations on it"
      ],
      "id": "805c73b6",
      "execution_count": null,
      "outputs": [
        {
          "output_type": "error",
          "ename": "TypeError",
          "evalue": "can only concatenate str (not \"int\") to str",
          "traceback": [
            "\u001b[1;31m---------------------------------------------------------------------------\u001b[0m",
            "\u001b[1;31mTypeError\u001b[0m                                 Traceback (most recent call last)",
            "\u001b[1;32m<ipython-input-11-c05825a1626c>\u001b[0m in \u001b[0;36m<module>\u001b[1;34m\u001b[0m\n\u001b[1;32m----> 1\u001b[1;33m \u001b[0mv\u001b[0m\u001b[1;33m=\u001b[0m\u001b[0mc\u001b[0m\u001b[1;33m+\u001b[0m\u001b[1;36m1\u001b[0m\u001b[1;33m\u001b[0m\u001b[1;33m\u001b[0m\u001b[0m\n\u001b[0m\u001b[0;32m      2\u001b[0m \u001b[0mprint\u001b[0m\u001b[1;33m(\u001b[0m\u001b[0mv\u001b[0m\u001b[1;33m)\u001b[0m\u001b[1;33m\u001b[0m\u001b[1;33m\u001b[0m\u001b[0m\n\u001b[0;32m      3\u001b[0m \u001b[1;31m#The above example gives an error coz c is a string here and we cannot perform operations on it\u001b[0m\u001b[1;33m\u001b[0m\u001b[1;33m\u001b[0m\u001b[1;33m\u001b[0m\u001b[0m\n",
            "\u001b[1;31mTypeError\u001b[0m: can only concatenate str (not \"int\") to str"
          ]
        }
      ]
    }
  ]
}