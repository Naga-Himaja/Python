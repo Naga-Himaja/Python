{
  "nbformat": 4,
  "nbformat_minor": 5,
  "metadata": {
    "kernelspec": {
      "display_name": "Python 3",
      "language": "python",
      "name": "python3"
    },
    "language_info": {
      "codemirror_mode": {
        "name": "ipython",
        "version": 3
      },
      "file_extension": ".py",
      "mimetype": "text/x-python",
      "name": "python",
      "nbconvert_exporter": "python",
      "pygments_lexer": "ipython3",
      "version": "3.8.10"
    },
    "colab": {
      "name": "Number Play (Part - 1).ipynb",
      "provenance": [],
      "include_colab_link": true
    }
  },
  "cells": [
    {
      "cell_type": "markdown",
      "metadata": {
        "id": "view-in-github",
        "colab_type": "text"
      },
      "source": [
        "<a href=\"https://colab.research.google.com/github/Naga-Himaja/Python/blob/Minor-coding-problems/Number_Play_(Part_1).ipynb\" target=\"_parent\"><img src=\"https://colab.research.google.com/assets/colab-badge.svg\" alt=\"Open In Colab\"/></a>"
      ]
    },
    {
      "cell_type": "markdown",
      "metadata": {
        "id": "c4585adc"
      },
      "source": [
        "# Number Check"
      ],
      "id": "c4585adc"
    },
    {
      "cell_type": "code",
      "metadata": {
        "id": "d70245fe",
        "outputId": "b31c3f2d-64fa-4654-9fd2-cabde4e016a8"
      },
      "source": [
        "x = int(input(\"Enter a number : \"))\n",
        "print(\"The number you have entered is \",end=\"\")\n",
        "if (x>0):\n",
        "    print(\"positive\")\n",
        "elif (x<0):\n",
        "    print(\"negative\")\n",
        "else:\n",
        "    print(\"zero\")"
      ],
      "id": "d70245fe",
      "execution_count": null,
      "outputs": [
        {
          "output_type": "stream",
          "text": [
            "Enter a number : 0\n",
            "The number you have entered is zero\n"
          ],
          "name": "stdout"
        }
      ]
    },
    {
      "cell_type": "markdown",
      "metadata": {
        "id": "6b710f76"
      },
      "source": [
        "# Odd or Even?"
      ],
      "id": "6b710f76"
    },
    {
      "cell_type": "code",
      "metadata": {
        "id": "1d16d2da",
        "outputId": "89399e6a-6362-4a6f-d13f-035d3056d5e9"
      },
      "source": [
        "n = int(input(\"Enter a number : \"))\n",
        "print(\"The number you have entered is \",end=\"\")\n",
        "if(n%2):\n",
        "    print(\"odd\")\n",
        "else:\n",
        "    print(\"even\")"
      ],
      "id": "1d16d2da",
      "execution_count": null,
      "outputs": [
        {
          "output_type": "stream",
          "text": [
            "Enter a number : 85\n",
            "The number you have entered is odd\n"
          ],
          "name": "stdout"
        }
      ]
    },
    {
      "cell_type": "markdown",
      "metadata": {
        "id": "ececa3c5"
      },
      "source": [
        "# Is it a Leap??"
      ],
      "id": "ececa3c5"
    },
    {
      "cell_type": "code",
      "metadata": {
        "id": "58c0626f",
        "outputId": "78d70e36-d830-4411-e7f3-e27f258ca3fa"
      },
      "source": [
        "print(\"Is it a leap year?\\nLet's find out\")\n",
        "year = int(input(\"Enter the year : \"))\n",
        "if(year%4==0):\n",
        "    if(year%100==0):\n",
        "        if(year%400==0):\n",
        "            print(\"Hurrah! It is a leap year!\")\n",
        "        else:\n",
        "            print(\"It is not a leap year\")\n",
        "    else:\n",
        "        print(\"It is not a leap year\")            \n",
        "else:\n",
        "    print(\"It is not a leap year\")"
      ],
      "id": "58c0626f",
      "execution_count": null,
      "outputs": [
        {
          "output_type": "stream",
          "text": [
            "Is it a leap year?\n",
            "Let's find out\n",
            "Enter the year : 1900\n",
            "It is not a leap year\n"
          ],
          "name": "stdout"
        }
      ]
    },
    {
      "cell_type": "markdown",
      "metadata": {
        "id": "d98388c5"
      },
      "source": [
        "# Find the biggest!"
      ],
      "id": "d98388c5"
    },
    {
      "cell_type": "code",
      "metadata": {
        "id": "2f2b6014",
        "outputId": "bae37eda-a7be-4b3e-ce81-204bb5363a28"
      },
      "source": [
        "print(\"Let us find the biggest of three elements\")\n",
        "L=[]\n",
        "print(\"Enter any three numbers\")\n",
        "for i in range(0,3):\n",
        "    L.append(int(input()))\n",
        "L.sort()\n",
        "print(\"The biggest number is {}\".format(L[-1]))"
      ],
      "id": "2f2b6014",
      "execution_count": null,
      "outputs": [
        {
          "output_type": "stream",
          "text": [
            "Let us find the biggest of three elements\n",
            "Enter any three numbers\n",
            "8\n",
            "4\n",
            "1\n",
            "The biggest number is 8\n"
          ],
          "name": "stdout"
        }
      ]
    }
  ]
}