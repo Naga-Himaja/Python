{
  "nbformat": 4,
  "nbformat_minor": 5,
  "metadata": {
    "kernelspec": {
      "display_name": "Python 3",
      "language": "python",
      "name": "python3"
    },
    "language_info": {
      "codemirror_mode": {
        "name": "ipython",
        "version": 3
      },
      "file_extension": ".py",
      "mimetype": "text/x-python",
      "name": "python",
      "nbconvert_exporter": "python",
      "pygments_lexer": "ipython3",
      "version": "3.8.8"
    },
    "colab": {
      "name": "Pattern.ipynb",
      "provenance": [],
      "include_colab_link": true
    }
  },
  "cells": [
    {
      "cell_type": "markdown",
      "metadata": {
        "id": "view-in-github",
        "colab_type": "text"
      },
      "source": [
        "<a href=\"https://colab.research.google.com/github/Naga-Himaja/Naga-Himaja/blob/Practice/Pattern.ipynb\" target=\"_parent\"><img src=\"https://colab.research.google.com/assets/colab-badge.svg\" alt=\"Open In Colab\"/></a>"
      ]
    },
    {
      "cell_type": "markdown",
      "metadata": {
        "id": "3b493d71"
      },
      "source": [
        "#Pattern\n"
      ],
      "id": "3b493d71"
    },
    {
      "cell_type": "code",
      "metadata": {
        "id": "100d6a41",
        "outputId": "c47d21c3-ebd2-4950-d2cf-13aee20eb5cd"
      },
      "source": [
        "def exclaim():\n",
        "    i=0\n",
        "    while(i<3):\n",
        "        print(\"!\\t!\")\n",
        "        i=i+1\n",
        "    \n",
        "a=\"********\"\n",
        "print(a)\n",
        "exclaim()\n",
        "print(a)    "
      ],
      "id": "100d6a41",
      "execution_count": null,
      "outputs": [
        {
          "output_type": "stream",
          "text": [
            "********\n",
            "!\t!\n",
            "!\t!\n",
            "!\t!\n",
            "********\n"
          ],
          "name": "stdout"
        }
      ]
    },
    {
      "cell_type": "code",
      "metadata": {
        "id": "aa5646d3"
      },
      "source": [
        ""
      ],
      "id": "aa5646d3",
      "execution_count": null,
      "outputs": []
    }
  ]
}