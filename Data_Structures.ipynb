{
  "nbformat": 4,
  "nbformat_minor": 5,
  "metadata": {
    "kernelspec": {
      "display_name": "Python 3",
      "language": "python",
      "name": "python3"
    },
    "language_info": {
      "codemirror_mode": {
        "name": "ipython",
        "version": 3
      },
      "file_extension": ".py",
      "mimetype": "text/x-python",
      "name": "python",
      "nbconvert_exporter": "python",
      "pygments_lexer": "ipython3",
      "version": "3.8.8"
    },
    "colab": {
      "name": "Data Structures.ipynb",
      "provenance": [],
      "include_colab_link": true
    }
  },
  "cells": [
    {
      "cell_type": "markdown",
      "metadata": {
        "id": "view-in-github",
        "colab_type": "text"
      },
      "source": [
        "<a href=\"https://colab.research.google.com/github/Naga-Himaja/Naga-Himaja/blob/main/Data_Structures.ipynb\" target=\"_parent\"><img src=\"https://colab.research.google.com/assets/colab-badge.svg\" alt=\"Open In Colab\"/></a>"
      ]
    },
    {
      "cell_type": "markdown",
      "metadata": {
        "id": "0d1df144"
      },
      "source": [
        "\n",
        "# Lists\n"
      ],
      "id": "0d1df144"
    },
    {
      "cell_type": "code",
      "metadata": {
        "id": "6a838a95",
        "outputId": "25c952bc-c532-4146-80ed-7ab2d69c8e03"
      },
      "source": [
        "l=[1,\"hai\",10,\"hai\",20,20]\n",
        "print(type(l))"
      ],
      "id": "6a838a95",
      "execution_count": null,
      "outputs": [
        {
          "output_type": "stream",
          "text": [
            "<class 'list'>\n"
          ],
          "name": "stdout"
        }
      ]
    },
    {
      "cell_type": "code",
      "metadata": {
        "id": "04b99e24"
      },
      "source": [
        "print(l)"
      ],
      "id": "04b99e24",
      "execution_count": null,
      "outputs": []
    },
    {
      "cell_type": "code",
      "metadata": {
        "id": "1d96404e",
        "outputId": "437f4232-7df0-4d1b-bfe9-6b5db92200e9"
      },
      "source": [
        "print(*l)"
      ],
      "id": "1d96404e",
      "execution_count": null,
      "outputs": [
        {
          "output_type": "stream",
          "text": [
            "1 hai 10 hai 20 20\n"
          ],
          "name": "stdout"
        }
      ]
    },
    {
      "cell_type": "code",
      "metadata": {
        "id": "ffea2b80",
        "outputId": "2d94ea75-20bc-445c-fcbe-6b20a21f1f37"
      },
      "source": [
        "print(l[ : : -1])"
      ],
      "id": "ffea2b80",
      "execution_count": null,
      "outputs": [
        {
          "output_type": "stream",
          "text": [
            "[20, 20, 'hai', 10, 'hai', 1]\n"
          ],
          "name": "stdout"
        }
      ]
    },
    {
      "cell_type": "code",
      "metadata": {
        "id": "1d30a25c",
        "outputId": "50e0e72e-17de-4953-fed5-c87f5c49f445"
      },
      "source": [
        "print(l[ : 5: 2])"
      ],
      "id": "1d30a25c",
      "execution_count": null,
      "outputs": [
        {
          "output_type": "stream",
          "text": [
            "[1, 10, 20]\n"
          ],
          "name": "stdout"
        }
      ]
    },
    {
      "cell_type": "code",
      "metadata": {
        "id": "c844dfc9",
        "outputId": "a0525d9d-438c-4c67-ed9e-a770bbfe50eb"
      },
      "source": [
        "print(len(l))"
      ],
      "id": "c844dfc9",
      "execution_count": null,
      "outputs": [
        {
          "output_type": "stream",
          "text": [
            "6\n"
          ],
          "name": "stdout"
        }
      ]
    },
    {
      "cell_type": "code",
      "metadata": {
        "id": "c7fbe00b",
        "outputId": "6734bfa5-6b37-4c4f-b2cf-9da404c77a1f"
      },
      "source": [
        "print(l[2])"
      ],
      "id": "c7fbe00b",
      "execution_count": null,
      "outputs": [
        {
          "output_type": "stream",
          "text": [
            "10\n"
          ],
          "name": "stdout"
        }
      ]
    },
    {
      "cell_type": "markdown",
      "metadata": {
        "id": "fb07d51f"
      },
      "source": [
        "# Append, insert"
      ],
      "id": "fb07d51f"
    },
    {
      "cell_type": "code",
      "metadata": {
        "id": "032f614d"
      },
      "source": [
        "l=[1,2,3]"
      ],
      "id": "032f614d",
      "execution_count": null,
      "outputs": []
    },
    {
      "cell_type": "code",
      "metadata": {
        "id": "a702bc87"
      },
      "source": [
        "l.append(\"hello\")"
      ],
      "id": "a702bc87",
      "execution_count": null,
      "outputs": []
    },
    {
      "cell_type": "code",
      "metadata": {
        "id": "79d4df93",
        "outputId": "f584d7c8-61c6-42a6-ad20-4aff5c8a4988"
      },
      "source": [
        "print(l)"
      ],
      "id": "79d4df93",
      "execution_count": null,
      "outputs": [
        {
          "output_type": "stream",
          "text": [
            "[1, 2, 3, 'hello']\n"
          ],
          "name": "stdout"
        }
      ]
    },
    {
      "cell_type": "code",
      "metadata": {
        "id": "94a071f8"
      },
      "source": [
        "l.insert(3,\"hai\")"
      ],
      "id": "94a071f8",
      "execution_count": null,
      "outputs": []
    },
    {
      "cell_type": "code",
      "metadata": {
        "id": "f001affb",
        "outputId": "ad8c8b32-0b0c-41cf-a576-66e7cf7c7066"
      },
      "source": [
        "print(l)"
      ],
      "id": "f001affb",
      "execution_count": null,
      "outputs": [
        {
          "output_type": "stream",
          "text": [
            "[1, 2, 3, 'hai', 'hello']\n"
          ],
          "name": "stdout"
        }
      ]
    },
    {
      "cell_type": "code",
      "metadata": {
        "id": "0dd2e2b3"
      },
      "source": [
        "l.insert(10,23)"
      ],
      "id": "0dd2e2b3",
      "execution_count": null,
      "outputs": []
    },
    {
      "cell_type": "code",
      "metadata": {
        "id": "2488a844",
        "outputId": "cd008541-6acb-4fd3-8e0e-f174c4da9ec8"
      },
      "source": [
        "print(l)"
      ],
      "id": "2488a844",
      "execution_count": null,
      "outputs": [
        {
          "output_type": "stream",
          "text": [
            "[1, 2, 3, 'hai', 'hello', 23]\n"
          ],
          "name": "stdout"
        }
      ]
    },
    {
      "cell_type": "code",
      "metadata": {
        "id": "870f5cf6",
        "outputId": "e9fd50ab-4448-45d0-ac88-2556db3ff1a0"
      },
      "source": [
        "l=[]\n",
        "x=int(input(\"Enter size : \"))\n",
        "for i in range(0,x):\n",
        "    x1=int(input())\n",
        "    l.append(x1)\n",
        "print(l)    "
      ],
      "id": "870f5cf6",
      "execution_count": null,
      "outputs": [
        {
          "output_type": "stream",
          "text": [
            "Enter size : 1\n",
            "5\n",
            "[5]\n"
          ],
          "name": "stdout"
        }
      ]
    },
    {
      "cell_type": "code",
      "metadata": {
        "id": "be41c4e3",
        "outputId": "fdba749d-2877-42ed-ac48-08387571bbaf"
      },
      "source": [
        "s=list(map(int,input().split(\",\")))"
      ],
      "id": "be41c4e3",
      "execution_count": null,
      "outputs": [
        {
          "output_type": "stream",
          "text": [
            "5\n"
          ],
          "name": "stdout"
        }
      ]
    },
    {
      "cell_type": "markdown",
      "metadata": {
        "id": "4e323d82"
      },
      "source": [
        "# Delete and Remove"
      ],
      "id": "4e323d82"
    },
    {
      "cell_type": "code",
      "metadata": {
        "id": "a17cf0ce"
      },
      "source": [
        "t= [5, 5, 9, 5,2,3,0]"
      ],
      "id": "a17cf0ce",
      "execution_count": 1,
      "outputs": []
    },
    {
      "cell_type": "code",
      "metadata": {
        "colab": {
          "base_uri": "https://localhost:8080/"
        },
        "id": "37e27038",
        "outputId": "3a99bcbf-f33b-4e30-852f-b2b3e66ceea9"
      },
      "source": [
        "del t[0]\n",
        "print(t)"
      ],
      "id": "37e27038",
      "execution_count": 2,
      "outputs": [
        {
          "output_type": "stream",
          "text": [
            "[5, 9, 5, 2, 3, 0]\n"
          ],
          "name": "stdout"
        }
      ]
    },
    {
      "cell_type": "code",
      "metadata": {
        "colab": {
          "base_uri": "https://localhost:8080/"
        },
        "id": "33162c3c",
        "outputId": "ba243fb5-8d59-4a83-f175-ffc8c056ac38"
      },
      "source": [
        "t.remove(5)\n",
        "print(t)"
      ],
      "id": "33162c3c",
      "execution_count": 3,
      "outputs": [
        {
          "output_type": "stream",
          "text": [
            "[9, 5, 2, 3, 0]\n"
          ],
          "name": "stdout"
        }
      ]
    },
    {
      "cell_type": "code",
      "metadata": {
        "colab": {
          "base_uri": "https://localhost:8080/"
        },
        "id": "9f6e1d80",
        "outputId": "cf76dbe8-81a0-4a42-9533-cdfe0995a6a8"
      },
      "source": [
        "del t[3:6]\n",
        "print(t)"
      ],
      "id": "9f6e1d80",
      "execution_count": 4,
      "outputs": [
        {
          "output_type": "stream",
          "text": [
            "[9, 5, 2]\n"
          ],
          "name": "stdout"
        }
      ]
    },
    {
      "cell_type": "markdown",
      "metadata": {
        "id": "3f0ac895"
      },
      "source": [
        "\n",
        "# Pop"
      ],
      "id": "3f0ac895"
    },
    {
      "cell_type": "code",
      "metadata": {
        "id": "1b9a546d",
        "outputId": "e5271c97-ec0e-433d-bf9d-7ee5599fcf62"
      },
      "source": [
        "l1=[12,45,2,5,3,2,8]\n",
        "l1.pop()\n",
        "print(l1)"
      ],
      "id": "1b9a546d",
      "execution_count": null,
      "outputs": [
        {
          "output_type": "stream",
          "text": [
            "[12, 45, 2, 5, 3, 2]\n"
          ],
          "name": "stdout"
        }
      ]
    },
    {
      "cell_type": "markdown",
      "metadata": {
        "id": "5ec499d5"
      },
      "source": [
        "# Extend"
      ],
      "id": "5ec499d5"
    },
    {
      "cell_type": "code",
      "metadata": {
        "id": "6dfe2dcb",
        "outputId": "e1d8252f-3403-42f3-c9e5-7b0e58410ff2"
      },
      "source": [
        "a=[1,2,3,4]\n",
        "b=[6,8,7]\n",
        "a.extend(b)\n",
        "print(a)"
      ],
      "id": "6dfe2dcb",
      "execution_count": null,
      "outputs": [
        {
          "output_type": "stream",
          "text": [
            "[1, 2, 3, 4, 6, 8, 7]\n"
          ],
          "name": "stdout"
        }
      ]
    },
    {
      "cell_type": "markdown",
      "metadata": {
        "id": "dfb2f654"
      },
      "source": [
        "# Copy\n"
      ],
      "id": "dfb2f654"
    },
    {
      "cell_type": "code",
      "metadata": {
        "id": "401458f4",
        "outputId": "7b496b56-f628-42d7-95ea-4e6e5dfe5efa"
      },
      "source": [
        "l1=[1,2,3,4,5,6]\n",
        "l2=l1\n",
        "l1.pop()\n",
        "print(l1)\n",
        "print(l2)"
      ],
      "id": "401458f4",
      "execution_count": null,
      "outputs": [
        {
          "output_type": "stream",
          "text": [
            "[1, 2, 3, 4, 5]\n",
            "[1, 2, 3, 4, 5]\n"
          ],
          "name": "stdout"
        }
      ]
    },
    {
      "cell_type": "code",
      "metadata": {
        "id": "ce39e373",
        "outputId": "87fa973d-eedb-4435-e13b-c9e282ab662c"
      },
      "source": [
        "l1=[0,8,3,6]\n",
        "l2=l1.copy()\n",
        "l1.pop()\n",
        "print(l1)\n",
        "print(l2)"
      ],
      "id": "ce39e373",
      "execution_count": null,
      "outputs": [
        {
          "output_type": "stream",
          "text": [
            "[0, 8, 3]\n",
            "[0, 8, 3, 6]\n"
          ],
          "name": "stdout"
        }
      ]
    },
    {
      "cell_type": "markdown",
      "metadata": {
        "id": "32de2eef"
      },
      "source": [
        "# Sort and Reverse"
      ],
      "id": "32de2eef"
    },
    {
      "cell_type": "code",
      "metadata": {
        "id": "0c44450e",
        "outputId": "d3320532-d193-424b-d81c-ec75555da4fd"
      },
      "source": [
        "l=[2,3,4,5,1,3,4,75]\n",
        "l.sort()\n",
        "print(l)"
      ],
      "id": "0c44450e",
      "execution_count": null,
      "outputs": [
        {
          "output_type": "stream",
          "text": [
            "[1, 2, 3, 3, 4, 4, 5, 75]\n"
          ],
          "name": "stdout"
        }
      ]
    },
    {
      "cell_type": "code",
      "metadata": {
        "id": "c7470b3c",
        "outputId": "e5ac765d-23eb-49d2-852b-a3a15a1ca525"
      },
      "source": [
        "l.sort(reverse=True)\n",
        "print(l)"
      ],
      "id": "c7470b3c",
      "execution_count": null,
      "outputs": [
        {
          "output_type": "stream",
          "text": [
            "[75, 5, 4, 4, 3, 3, 2, 1]\n"
          ],
          "name": "stdout"
        }
      ]
    },
    {
      "cell_type": "code",
      "metadata": {
        "id": "21de19f7",
        "outputId": "dd384c34-bf2d-48c1-b686-45b55d9ff78c"
      },
      "source": [
        "l=[1,5,3,2,4,8,6,4]\n",
        "l.reverse()\n",
        "print(l)\n"
      ],
      "id": "21de19f7",
      "execution_count": null,
      "outputs": [
        {
          "output_type": "stream",
          "text": [
            "[4, 6, 8, 4, 2, 3, 5, 1]\n"
          ],
          "name": "stdout"
        }
      ]
    },
    {
      "cell_type": "markdown",
      "metadata": {
        "id": "edd22d0f"
      },
      "source": [
        "# Tuples"
      ],
      "id": "edd22d0f"
    },
    {
      "cell_type": "code",
      "metadata": {
        "colab": {
          "base_uri": "https://localhost:8080/"
        },
        "id": "c08e3e2a",
        "outputId": "f9e93d0d-29d1-40c2-9198-9a4c4f2eb20d"
      },
      "source": [
        "t=(1,1,5,8,3,3,3,6,1)\n",
        "print(t)"
      ],
      "id": "c08e3e2a",
      "execution_count": 5,
      "outputs": [
        {
          "output_type": "stream",
          "text": [
            "(1, 1, 5, 8, 3, 3, 3, 6, 1)\n"
          ],
          "name": "stdout"
        }
      ]
    },
    {
      "cell_type": "markdown",
      "metadata": {
        "id": "e16085a3"
      },
      "source": [
        "# Sets"
      ],
      "id": "e16085a3"
    },
    {
      "cell_type": "code",
      "metadata": {
        "id": "d5290284",
        "outputId": "a4d538e8-bc4f-4106-fd80-4b9769d65572"
      },
      "source": [
        "s={1,1,1,1,2,2,2,2,5,3,9,6,8}\n",
        "print(s)"
      ],
      "id": "d5290284",
      "execution_count": null,
      "outputs": [
        {
          "output_type": "stream",
          "text": [
            "{1, 2, 3, 5, 6, 8, 9}\n"
          ],
          "name": "stdout"
        }
      ]
    },
    {
      "cell_type": "code",
      "metadata": {
        "id": "498bb4d8"
      },
      "source": [
        "s.remove(1)"
      ],
      "id": "498bb4d8",
      "execution_count": null,
      "outputs": []
    },
    {
      "cell_type": "code",
      "metadata": {
        "id": "a866fe69",
        "outputId": "230a8e7e-c982-40f0-891a-ff05b3bec0cb"
      },
      "source": [
        "print(s)"
      ],
      "id": "a866fe69",
      "execution_count": null,
      "outputs": [
        {
          "output_type": "stream",
          "text": [
            "{2, 3, 5, 6, 8, 9}\n"
          ],
          "name": "stdout"
        }
      ]
    },
    {
      "cell_type": "code",
      "metadata": {
        "id": "0398c521",
        "outputId": "7ca75ce5-a0a4-488b-b867-cdc487b871e9"
      },
      "source": [
        "s2={1,5,3,9}\n",
        "s.update(s2)\n",
        "print(s)"
      ],
      "id": "0398c521",
      "execution_count": null,
      "outputs": [
        {
          "output_type": "stream",
          "text": [
            "{1, 2, 3, 5, 6, 8, 9}\n"
          ],
          "name": "stdout"
        }
      ]
    },
    {
      "cell_type": "code",
      "metadata": {
        "id": "a445337a",
        "outputId": "7deef4b5-92c6-4b0d-fc9f-247a1a94119f"
      },
      "source": [
        "l=list(s)\n",
        "print(l)"
      ],
      "id": "a445337a",
      "execution_count": null,
      "outputs": [
        {
          "output_type": "stream",
          "text": [
            "[1, 2, 3, 5, 6, 8, 9]\n"
          ],
          "name": "stdout"
        }
      ]
    },
    {
      "cell_type": "markdown",
      "metadata": {
        "id": "47879664"
      },
      "source": [
        "# Dictionaries\n"
      ],
      "id": "47879664"
    },
    {
      "cell_type": "code",
      "metadata": {
        "id": "feae0e16"
      },
      "source": [
        "d={1: 'a', 2: 'b'}"
      ],
      "id": "feae0e16",
      "execution_count": null,
      "outputs": []
    },
    {
      "cell_type": "code",
      "metadata": {
        "id": "16038bfa",
        "outputId": "bc4aeafe-1065-4d92-aebf-753f71b4e44a"
      },
      "source": [
        "print(type(d))"
      ],
      "id": "16038bfa",
      "execution_count": null,
      "outputs": [
        {
          "output_type": "stream",
          "text": [
            "<class 'dict'>\n"
          ],
          "name": "stdout"
        }
      ]
    },
    {
      "cell_type": "code",
      "metadata": {
        "id": "e74cc6a2",
        "outputId": "6c0e1d5a-421e-448c-b86b-0d3ce1a07577"
      },
      "source": [
        "print(d)"
      ],
      "id": "e74cc6a2",
      "execution_count": null,
      "outputs": [
        {
          "output_type": "stream",
          "text": [
            "{1: 'a', 2: 'b'}\n"
          ],
          "name": "stdout"
        }
      ]
    },
    {
      "cell_type": "code",
      "metadata": {
        "id": "a1c645f1",
        "outputId": "8d85a2c4-a0aa-4d66-ca54-fac698637338"
      },
      "source": [
        "d = {'hai':1, 'hello': [2,3]}\n",
        "d['namaste']=4\n",
        "print(d)\n",
        "del d['hai']\n",
        "print(d)"
      ],
      "id": "a1c645f1",
      "execution_count": null,
      "outputs": [
        {
          "output_type": "stream",
          "text": [
            "{'hai': 1, 'hello': [2, 3], 'namaste': 4}\n",
            "{'hello': [2, 3], 'namaste': 4}\n"
          ],
          "name": "stdout"
        }
      ]
    },
    {
      "cell_type": "code",
      "metadata": {
        "id": "9d94636e",
        "outputId": "22dfbec1-8d85-4736-e98b-bc4fd6ce62de"
      },
      "source": [
        "D = dict([(1,'hai'),(2,\"Buddies\"),(3,\"Folks\")])\n",
        "print(D)"
      ],
      "id": "9d94636e",
      "execution_count": null,
      "outputs": [
        {
          "output_type": "stream",
          "text": [
            "{1: 'hai', 2: 'Buddies', 3: 'Folks'}\n"
          ],
          "name": "stdout"
        }
      ]
    },
    {
      "cell_type": "code",
      "metadata": {
        "id": "772b0df4",
        "outputId": "9af0803e-c2a0-447e-9194-e3a6d088d835"
      },
      "source": [
        "print(D.keys())"
      ],
      "id": "772b0df4",
      "execution_count": null,
      "outputs": [
        {
          "output_type": "stream",
          "text": [
            "dict_keys([1, 2, 3])\n"
          ],
          "name": "stdout"
        }
      ]
    },
    {
      "cell_type": "code",
      "metadata": {
        "id": "88411414",
        "outputId": "c0ee8bff-2463-4959-f4c8-bb9237dc9fbe"
      },
      "source": [
        "for key in D:\n",
        "    print (key)"
      ],
      "id": "88411414",
      "execution_count": null,
      "outputs": [
        {
          "output_type": "stream",
          "text": [
            "1\n",
            "2\n",
            "3\n"
          ],
          "name": "stdout"
        }
      ]
    },
    {
      "cell_type": "code",
      "metadata": {
        "id": "c69ba7c6",
        "outputId": "f96c8688-856e-41b9-aacd-2a083cc26404"
      },
      "source": [
        "print(D.values())"
      ],
      "id": "c69ba7c6",
      "execution_count": null,
      "outputs": [
        {
          "output_type": "stream",
          "text": [
            "dict_values(['hai', 'Buddies', 'Folks'])\n"
          ],
          "name": "stdout"
        }
      ]
    },
    {
      "cell_type": "code",
      "metadata": {
        "id": "71554efc",
        "outputId": "c5f18f86-4d8e-4cb8-ae46-b41efdc5f361"
      },
      "source": [
        "for i in D.values():\n",
        "    print(i)"
      ],
      "id": "71554efc",
      "execution_count": null,
      "outputs": [
        {
          "output_type": "stream",
          "text": [
            "hai\n",
            "Buddies\n",
            "Folks\n"
          ],
          "name": "stdout"
        }
      ]
    },
    {
      "cell_type": "code",
      "metadata": {
        "id": "901229d4",
        "outputId": "30a7b8b5-0fe5-4827-91c8-bdd976b37c50"
      },
      "source": [
        "for i,j in D.items():\n",
        "    print(i,j)"
      ],
      "id": "901229d4",
      "execution_count": null,
      "outputs": [
        {
          "output_type": "stream",
          "text": [
            "1 hai\n",
            "2 Buddies\n",
            "3 Folks\n"
          ],
          "name": "stdout"
        }
      ]
    },
    {
      "cell_type": "code",
      "metadata": {
        "id": "4ce97ea2"
      },
      "source": [
        ""
      ],
      "id": "4ce97ea2",
      "execution_count": null,
      "outputs": []
    }
  ]
}