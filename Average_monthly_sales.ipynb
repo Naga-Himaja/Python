{
  "nbformat": 4,
  "nbformat_minor": 5,
  "metadata": {
    "kernelspec": {
      "display_name": "Python 3",
      "language": "python",
      "name": "python3"
    },
    "language_info": {
      "codemirror_mode": {
        "name": "ipython",
        "version": 3
      },
      "file_extension": ".py",
      "mimetype": "text/x-python",
      "name": "python",
      "nbconvert_exporter": "python",
      "pygments_lexer": "ipython3",
      "version": "3.8.10"
    },
    "colab": {
      "name": "Average monthly sales.ipynb",
      "provenance": [],
      "include_colab_link": true
    }
  },
  "cells": [
    {
      "cell_type": "markdown",
      "metadata": {
        "id": "view-in-github",
        "colab_type": "text"
      },
      "source": [
        "<a href=\"https://colab.research.google.com/github/Naga-Himaja/Python/blob/Minor-coding-problems/Average_monthly_sales.ipynb\" target=\"_parent\"><img src=\"https://colab.research.google.com/assets/colab-badge.svg\" alt=\"Open In Colab\"/></a>"
      ]
    },
    {
      "cell_type": "markdown",
      "metadata": {
        "id": "e4acb3e7"
      },
      "source": [
        "# Sales of month -  Average"
      ],
      "id": "e4acb3e7"
    },
    {
      "cell_type": "code",
      "metadata": {
        "id": "6d04a90b",
        "outputId": "6cc16a5e-929d-4f87-e292-a75c1ca303f5"
      },
      "source": [
        "def avg(sum,n):\n",
        "    return(sum/n)\n",
        "print(\"Let us calculate the average sales of the month\\n\")\n",
        "sales_sum = count = 0\n",
        "while(count<4):\n",
        "    x = float(input(\"Enter the number sales in week {}: \".format(count+1)))\n",
        "    sales_sum += x\n",
        "    count += 1\n",
        "average = avg(sales_sum, count)\n",
        "print(\"The average sales of this month is : \",average)\n",
        "print(\"\\n\")"
      ],
      "id": "6d04a90b",
      "execution_count": null,
      "outputs": [
        {
          "name": "stdout",
          "output_type": "stream",
          "text": [
            "Let us calculate the average sales of the month\n",
            "\n",
            "Enter the number sales in week 1: 47\n",
            "Enter the number sales in week 2: 47\n",
            "Enter the number sales in week 3: 47\n",
            "Enter the number sales in week 4: 10\n",
            "The average sales of this month is :  37.75\n",
            "\n",
            "\n"
          ]
        }
      ]
    }
  ]
}