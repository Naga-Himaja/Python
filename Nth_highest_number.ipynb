{
  "nbformat": 4,
  "nbformat_minor": 5,
  "metadata": {
    "kernelspec": {
      "display_name": "Python 3",
      "language": "python",
      "name": "python3"
    },
    "language_info": {
      "codemirror_mode": {
        "name": "ipython",
        "version": 3
      },
      "file_extension": ".py",
      "mimetype": "text/x-python",
      "name": "python",
      "nbconvert_exporter": "python",
      "pygments_lexer": "ipython3",
      "version": "3.8.10"
    },
    "colab": {
      "name": "Nth highest number.ipynb",
      "provenance": [],
      "include_colab_link": true
    }
  },
  "cells": [
    {
      "cell_type": "markdown",
      "metadata": {
        "id": "view-in-github",
        "colab_type": "text"
      },
      "source": [
        "<a href=\"https://colab.research.google.com/github/Naga-Himaja/Python/blob/Minor-coding-problems/Nth_highest_number.ipynb\" target=\"_parent\"><img src=\"https://colab.research.google.com/assets/colab-badge.svg\" alt=\"Open In Colab\"/></a>"
      ]
    },
    {
      "cell_type": "markdown",
      "metadata": {
        "id": "d39c344f"
      },
      "source": [
        "# Nth highest number in a given list"
      ],
      "id": "d39c344f"
    },
    {
      "cell_type": "code",
      "metadata": {
        "id": "605520e0"
      },
      "source": [
        "def n_high(a,n):\n",
        "    print(a)\n",
        "    for i in range(0,len(a)):\n",
        "        smallest = a[i]\n",
        "        loc= i\n",
        "        for j in range(i+1,len(a)):\n",
        "            if(a[j]<smallest):\n",
        "                smallest = a[j]\n",
        "                loc = j\n",
        "        a[i],a[loc]=a[loc],a[i]\n",
        "    print(a)    \n",
        "    return(a[-n])"
      ],
      "id": "605520e0",
      "execution_count": null,
      "outputs": []
    },
    {
      "cell_type": "code",
      "metadata": {
        "scrolled": true,
        "id": "a54ce390",
        "outputId": "9ded0757-ee84-4871-e092-c46787da0430"
      },
      "source": [
        "L = list(map(int,input(\"Enter a list of numbers : \").split(\" \")))\n",
        "print(\"The number of the elements given are : \",len(L))\n",
        "n = int(input(\"Enter the rank of the highest number : \"))\n",
        "if (n>len(L) or n<0):\n",
        "    print(\"Invalid rank!\")\n",
        "else:    \n",
        "    high = n_high(L, n)\n",
        "    print(\"The {}th highest element is : {}\".format(n,high))"
      ],
      "id": "a54ce390",
      "execution_count": null,
      "outputs": [
        {
          "name": "stdout",
          "output_type": "stream",
          "text": [
            "Enter a list of numbers : 4 2 8 6 9 4\n",
            "The number of the elements given are :  6\n",
            "Enter the rank of the highest number : 6\n",
            "[4, 2, 8, 6, 9, 4]\n",
            "[2, 4, 4, 6, 8, 9]\n",
            "The 6th highest element is : 2\n"
          ]
        }
      ]
    }
  ]
}