{
  "nbformat": 4,
  "nbformat_minor": 5,
  "metadata": {
    "kernelspec": {
      "display_name": "Python 3",
      "language": "python",
      "name": "python3"
    },
    "language_info": {
      "codemirror_mode": {
        "name": "ipython",
        "version": 3
      },
      "file_extension": ".py",
      "mimetype": "text/x-python",
      "name": "python",
      "nbconvert_exporter": "python",
      "pygments_lexer": "ipython3",
      "version": "3.8.10"
    },
    "colab": {
      "name": "String_Operations (1).ipynb",
      "provenance": [],
      "include_colab_link": true
    }
  },
  "cells": [
    {
      "cell_type": "markdown",
      "metadata": {
        "id": "view-in-github",
        "colab_type": "text"
      },
      "source": [
        "<a href=\"https://colab.research.google.com/github/Naga-Himaja/Naga-Himaja/blob/Practice/String_Operations.ipynb\" target=\"_parent\"><img src=\"https://colab.research.google.com/assets/colab-badge.svg\" alt=\"Open In Colab\"/></a>"
      ]
    },
    {
      "cell_type": "code",
      "metadata": {
        "id": "9141f7dd",
        "outputId": "ae6a8b55-07f0-4866-a480-838fcd0ab355"
      },
      "source": [
        "a = \"SLICEPAN\"\n",
        "len(a)"
      ],
      "id": "9141f7dd",
      "execution_count": null,
      "outputs": [
        {
          "output_type": "execute_result",
          "data": {
            "text/plain": [
              "8"
            ]
          },
          "metadata": {
            "tags": []
          },
          "execution_count": 8
        }
      ]
    },
    {
      "cell_type": "code",
      "metadata": {
        "id": "f51c8a77",
        "outputId": "4d64eeb8-72b2-42e2-fc3e-ec0d3ec91ef1"
      },
      "source": [
        "a[0:4:2]"
      ],
      "id": "f51c8a77",
      "execution_count": null,
      "outputs": [
        {
          "output_type": "execute_result",
          "data": {
            "text/plain": [
              "'SI'"
            ]
          },
          "metadata": {
            "tags": []
          },
          "execution_count": 19
        }
      ]
    },
    {
      "cell_type": "code",
      "metadata": {
        "id": "41e97b76",
        "outputId": "d7c1c1a9-0242-46c9-87ae-91cc34787098"
      },
      "source": [
        "a[3:1]"
      ],
      "id": "41e97b76",
      "execution_count": null,
      "outputs": [
        {
          "output_type": "execute_result",
          "data": {
            "text/plain": [
              "''"
            ]
          },
          "metadata": {
            "tags": []
          },
          "execution_count": 3
        }
      ]
    },
    {
      "cell_type": "code",
      "metadata": {
        "id": "d4b79f19",
        "outputId": "f4d1e459-1f46-4147-8b92-d2845a61bece"
      },
      "source": [
        "a[1:-1]"
      ],
      "id": "d4b79f19",
      "execution_count": null,
      "outputs": [
        {
          "output_type": "execute_result",
          "data": {
            "text/plain": [
              "'LICEPA'"
            ]
          },
          "metadata": {
            "tags": []
          },
          "execution_count": 12
        }
      ]
    },
    {
      "cell_type": "code",
      "metadata": {
        "id": "6ae0546b",
        "outputId": "d1af108a-3dab-4c52-9a5b-30a029d8c585"
      },
      "source": [
        "a[1:9:4]"
      ],
      "id": "6ae0546b",
      "execution_count": null,
      "outputs": [
        {
          "output_type": "execute_result",
          "data": {
            "text/plain": [
              "'LP'"
            ]
          },
          "metadata": {
            "tags": []
          },
          "execution_count": 18
        }
      ]
    },
    {
      "cell_type": "code",
      "metadata": {
        "id": "e9affa34",
        "outputId": "81cb2a44-cdd9-4eb7-d2bc-58e0253a1627"
      },
      "source": [
        "a[::-1]"
      ],
      "id": "e9affa34",
      "execution_count": null,
      "outputs": [
        {
          "output_type": "execute_result",
          "data": {
            "text/plain": [
              "'NAPECILS'"
            ]
          },
          "metadata": {
            "tags": []
          },
          "execution_count": 13
        }
      ]
    },
    {
      "cell_type": "code",
      "metadata": {
        "id": "add00b63",
        "outputId": "ff2c9455-cf08-4dcd-bb7a-acc9857770a3"
      },
      "source": [
        "x= \"hello\"\n",
        "x=x+ ' there '+ ' '\n",
        "print(len(x*3)"
      ],
      "id": "add00b63",
      "execution_count": null,
      "outputs": [
        {
          "output_type": "stream",
          "text": [
            "39\n"
          ],
          "name": "stdout"
        }
      ]
    },
    {
      "cell_type": "code",
      "metadata": {
        "id": "2e5f5a13",
        "outputId": "a6f5c356-1a71-4116-cc12-f9ffebe8001e"
      },
      "source": [
        "s=\"Himaja\\nSharma\"\n",
        "print(s)"
      ],
      "id": "2e5f5a13",
      "execution_count": null,
      "outputs": [
        {
          "output_type": "stream",
          "text": [
            "Himaja\n",
            "Sharma\n"
          ],
          "name": "stdout"
        }
      ]
    },
    {
      "cell_type": "code",
      "metadata": {
        "id": "8063fb49",
        "outputId": "9ffb00ea-5121-468c-b24a-1b00066c11c2"
      },
      "source": [
        "n=\"Hello there!\"\n",
        "m=\"Hey people!!!\"\n",
        "print(n<m)\n"
      ],
      "id": "8063fb49",
      "execution_count": null,
      "outputs": [
        {
          "output_type": "stream",
          "text": [
            "True\n"
          ],
          "name": "stdout"
        }
      ]
    },
    {
      "cell_type": "code",
      "metadata": {
        "id": "8a40f08e",
        "outputId": "667c4326-2660-47c9-93bb-ba8442a5c418"
      },
      "source": [
        "o=\"hello\"\n",
        "print(n<o)\n",
        "print(n>o)"
      ],
      "id": "8a40f08e",
      "execution_count": null,
      "outputs": [
        {
          "output_type": "stream",
          "text": [
            "True\n",
            "False\n"
          ],
          "name": "stdout"
        }
      ]
    },
    {
      "cell_type": "code",
      "metadata": {
        "colab": {
          "base_uri": "https://localhost:8080/",
          "height": 35
        },
        "id": "81ffcd90",
        "outputId": "766ace60-a663-4796-dcbd-6ff17d76b077"
      },
      "source": [
        "t=\"Jonathan\"\n",
        "t[1:4]"
      ],
      "id": "81ffcd90",
      "execution_count": 1,
      "outputs": [
        {
          "output_type": "execute_result",
          "data": {
            "application/vnd.google.colaboratory.intrinsic+json": {
              "type": "string"
            },
            "text/plain": [
              "'ona'"
            ]
          },
          "metadata": {
            "tags": []
          },
          "execution_count": 1
        }
      ]
    },
    {
      "cell_type": "code",
      "metadata": {
        "colab": {
          "base_uri": "https://localhost:8080/",
          "height": 35
        },
        "id": "6400f4f6",
        "outputId": "dc7f4e0d-ee26-41d1-b185-e0b94c1ceb30"
      },
      "source": [
        "t[3:1:-1]"
      ],
      "id": "6400f4f6",
      "execution_count": 2,
      "outputs": [
        {
          "output_type": "execute_result",
          "data": {
            "application/vnd.google.colaboratory.intrinsic+json": {
              "type": "string"
            },
            "text/plain": [
              "'an'"
            ]
          },
          "metadata": {
            "tags": []
          },
          "execution_count": 2
        }
      ]
    },
    {
      "cell_type": "code",
      "metadata": {
        "colab": {
          "base_uri": "https://localhost:8080/",
          "height": 35
        },
        "id": "fb5bc877",
        "outputId": "43da7bb6-368f-4e2a-b821-3dd2c89ac925"
      },
      "source": [
        "t[1:3]"
      ],
      "id": "fb5bc877",
      "execution_count": 3,
      "outputs": [
        {
          "output_type": "execute_result",
          "data": {
            "application/vnd.google.colaboratory.intrinsic+json": {
              "type": "string"
            },
            "text/plain": [
              "'on'"
            ]
          },
          "metadata": {
            "tags": []
          },
          "execution_count": 3
        }
      ]
    }
  ]
}