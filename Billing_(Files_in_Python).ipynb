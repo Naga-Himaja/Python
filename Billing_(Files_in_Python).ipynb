{
  "nbformat": 4,
  "nbformat_minor": 5,
  "metadata": {
    "kernelspec": {
      "display_name": "Python 3",
      "language": "python",
      "name": "python3"
    },
    "language_info": {
      "codemirror_mode": {
        "name": "ipython",
        "version": 3
      },
      "file_extension": ".py",
      "mimetype": "text/x-python",
      "name": "python",
      "nbconvert_exporter": "python",
      "pygments_lexer": "ipython3",
      "version": "3.8.10"
    },
    "colab": {
      "name": "Billing (Files in Python).ipynb",
      "provenance": [],
      "include_colab_link": true
    }
  },
  "cells": [
    {
      "cell_type": "markdown",
      "metadata": {
        "id": "view-in-github",
        "colab_type": "text"
      },
      "source": [
        "<a href=\"https://colab.research.google.com/github/Naga-Himaja/Python/blob/Minor-coding-problems/Billing_(Files_in_Python).ipynb\" target=\"_parent\"><img src=\"https://colab.research.google.com/assets/colab-badge.svg\" alt=\"Open In Colab\"/></a>"
      ]
    },
    {
      "cell_type": "markdown",
      "metadata": {
        "id": "f6f848af"
      },
      "source": [
        "# Files"
      ],
      "id": "f6f848af"
    },
    {
      "cell_type": "code",
      "metadata": {
        "id": "16fa3f11"
      },
      "source": [
        "def write_sales_log(order,file):\n",
        "    total = 0\n",
        "    name= \"Name of item\"\n",
        "    num = \"Number of items\"\n",
        "    cost = \"Price\"\n",
        "    total_num = \"Total price\"\n",
        "    file.write(\"More Super Market\\n\\n\")\n",
        "    file.write(f'{name:{10}} {num:^30}{cost:^10}{total_num:>7}' +'\\n')\n",
        "    for item, price in order.items():\n",
        "        tot_price = price[1]*price[0]\n",
        "        file.write(f'{item:{10}} {price[0]:^30} {price[1]:^10} {tot_price:>7}'+'\\n')\n",
        "        total += tot_price\n",
        "   \n",
        "    file.write('\\n'+'Total = '+ format(total, '.2f')+'\\n')\n",
        "    file\n",
        "    file.close()"
      ],
      "id": "16fa3f11",
      "execution_count": null,
      "outputs": []
    },
    {
      "cell_type": "code",
      "metadata": {
        "id": "ab868a38"
      },
      "source": [
        "bill = {\"Coffee\" :[2,30] , \"Ice cream\" : [4,50] , \"Tea\" : [10,10]}\n",
        "file = open('sales.txt', 'w')\n",
        "write_sales_log(bill,file)"
      ],
      "id": "ab868a38",
      "execution_count": null,
      "outputs": []
    },
    {
      "cell_type": "code",
      "metadata": {
        "id": "a920fa7b"
      },
      "source": [
        "bill = {\"Milk\" : [7, 25], \"Biryani\" : [1,200]}\n",
        "file = open ('restaurant_bill.txt' , 'w')\n",
        "write_sales_log(bill, file)"
      ],
      "id": "a920fa7b",
      "execution_count": null,
      "outputs": []
    }
  ]
}