{
  "nbformat": 4,
  "nbformat_minor": 5,
  "metadata": {
    "kernelspec": {
      "display_name": "Python 3",
      "language": "python",
      "name": "python3"
    },
    "language_info": {
      "codemirror_mode": {
        "name": "ipython",
        "version": 3
      },
      "file_extension": ".py",
      "mimetype": "text/x-python",
      "name": "python",
      "nbconvert_exporter": "python",
      "pygments_lexer": "ipython3",
      "version": "3.8.10"
    },
    "colab": {
      "name": "Assignment.ipynb",
      "provenance": [],
      "include_colab_link": true
    }
  },
  "cells": [
    {
      "cell_type": "markdown",
      "metadata": {
        "id": "view-in-github",
        "colab_type": "text"
      },
      "source": [
        "<a href=\"https://colab.research.google.com/github/Naga-Himaja/Python/blob/Minor-coding-problems/Mail_Ids.ipynb\" target=\"_parent\"><img src=\"https://colab.research.google.com/assets/colab-badge.svg\" alt=\"Open In Colab\"/></a>"
      ]
    },
    {
      "cell_type": "markdown",
      "metadata": {
        "id": "cc144a82"
      },
      "source": [
        "# Assignment"
      ],
      "id": "cc144a82"
    },
    {
      "cell_type": "markdown",
      "metadata": {
        "id": "8b6321a9"
      },
      "source": [
        "Write a program to find the number of gmail, outlook, yahoo and gov.in mail IDs in a given list of mail IDs"
      ],
      "id": "8b6321a9"
    },
    {
      "cell_type": "code",
      "metadata": {
        "id": "5726d46a",
        "outputId": "a99888e4-e492-41bd-d25f-47e9f0d670e0"
      },
      "source": [
        "mail_ids = [\"turboslayer@gmail.com\",\n",
        "\"someone@outlook.com\",\n",
        "\"crashtv@gov.in\",\n",
        "\"blue_defender@gmail.com\",\n",
        "\"logan@yahoo.com\",\n",
        "\"ironmerc@gov.in\",\n",
        "\"steeltitan@outlook.com\",\n",
        "\"stealthedefender@yahoo.com\",\n",
        "\"blaze_assault@gov.in\",\n",
        "\"venom_fate@yahoo.com\",\n",
        "\"dark_side@yahoo.com\",\n",
        "\"fataldestiny@yahoo.com\",\n",
        "\"ultimatebeast@outlook.com\",\n",
        "\"masked_titan@gmail.com\",\n",
        "\"frozen_gunner@yahoo.com\",\n",
        "\"username_copied@gov.in\",\n",
        "\"whos_ur_buddy@outlook.com\",\n",
        "\"unfinished_sentenc@gov.in\",\n",
        "\"all_gone@gov.in\",\n",
        "\"something@gmail.com\",\n",
        "\"president@gmail.com\",\n",
        "\"tinfoilhat@gmail.com\",\n",
        "\"anonymouse@yahoo.com\",\n",
        "\"definitely_not_an_athlete@outlook.com\",\n",
        "\"dropout@gov.in\",\n",
        "\"paw_friend@outlook.com\",\n",
        "\"test_name_please_ignore@gov.in\",\n",
        "\"heyyou@gov.in\",\n",
        "\"a_distraction@yahoo.com\",\n",
        "\"thegodfatherpart4@gov.in\",\n",
        "\"unfriendme@outlook.com\",\n",
        "\"doodles@gmail.com\",\n",
        "\"fluffycookie@yahoo.com\",\n",
        "\"theintolerant@gmail.com\",\n",
        "\"fourhour@yahoo.com\",\n",
        "\"toastedwithcheese@gmail.com\",\n",
        "\"futureking@yahoo.com\",\n",
        "\"coolshirtbruh@outlook.com\",\n",
        "\"kentucky@yahoo.com\",\n",
        "\"chocolate@gmail.com\",\n",
        "\"saintbroseph@yahoo.com\",\n",
        "\"just_chillin@gmail.com\",\n",
        "\"ghostface@gov.in\",\n",
        "\"bigfootisreal@yahoo.com\",\n",
        "\"newbie@yahoo.com\",\n",
        "\"alienware@outlook.com\",\n",
        "\"chrishemsworth@outlook.com\",\n",
        "\"nachocheesefries@outlook.com\",\n",
        "\"reginageorge@gov.in\",\n",
        "\"harmless_potato@outlook.com\",\n",
        "\"frostedcupcake@outlook.com\",\n",
        "\"avocadorable@outlook.com\",\n",
        "\"pixie_dust@gmail.com\",\n",
        "\"chopsuey@yahoo.com\",\n",
        "\"iron_man@gov.in\",\n",
        "\"lemon_ade@outlook.com\",\n",
        "\"cerial_killer@outlook.com\",\n",
        "\"light_year@gov.in\",\n",
        "\"phoenix@outlook.com\",\n",
        "\"harry_potter@outlook.com\"]\n",
        "\n",
        "count = 0\n",
        "for i in mail_ids:\n",
        "    count += 1\n",
        "print(count) \n",
        "print(mail_ids)"
      ],
      "id": "5726d46a",
      "execution_count": null,
      "outputs": [
        {
          "output_type": "stream",
          "text": [
            "60\n",
            "['turboslayer@gmail.com', 'someone@outlook.com', 'crashtv@gov.in', 'blue_defender@gmail.com', 'logan@yahoo.com', 'ironmerc@gov.in', 'steeltitan@outlook.com', 'stealthedefender@yahoo.com', 'blaze_assault@gov.in', 'venom_fate@yahoo.com', 'dark_side@yahoo.com', 'fataldestiny@yahoo.com', 'ultimatebeast@outlook.com', 'masked_titan@gmail.com', 'frozen_gunner@yahoo.com', 'username_copied@gov.in', 'whos_ur_buddy@outlook.com', 'unfinished_sentenc@gov.in', 'all_gone@gov.in', 'something@gmail.com', 'president@gmail.com', 'tinfoilhat@gmail.com', 'anonymouse@yahoo.com', 'definitely_not_an_athlete@outlook.com', 'dropout@gov.in', 'paw_friend@outlook.com', 'test_name_please_ignore@gov.in', 'heyyou@gov.in', 'a_distraction@yahoo.com', 'thegodfatherpart4@gov.in', 'unfriendme@outlook.com', 'doodles@gmail.com', 'fluffycookie@yahoo.com', 'theintolerant@gmail.com', 'fourhour@yahoo.com', 'toastedwithcheese@gmail.com', 'futureking@yahoo.com', 'coolshirtbruh@outlook.com', 'kentucky@yahoo.com', 'chocolate@gmail.com', 'saintbroseph@yahoo.com', 'just_chillin@gmail.com', 'ghostface@gov.in', 'bigfootisreal@yahoo.com', 'newbie@yahoo.com', 'alienware@outlook.com', 'chrishemsworth@outlook.com', 'nachocheesefries@outlook.com', 'reginageorge@gov.in', 'harmless_potato@outlook.com', 'frostedcupcake@outlook.com', 'avocadorable@outlook.com', 'pixie_dust@gmail.com', 'chopsuey@yahoo.com', 'iron_man@gov.in', 'lemon_ade@outlook.com', 'cerial_killer@outlook.com', 'light_year@gov.in', 'phoenix@outlook.com', 'harry_potter@outlook.com']\n"
          ],
          "name": "stdout"
        }
      ]
    },
    {
      "cell_type": "code",
      "metadata": {
        "id": "fa6adffd",
        "outputId": "476f30e1-8f26-4c64-baa1-d5e126a25507"
      },
      "source": [
        "words = []\n",
        "for i in mail_ids:\n",
        "    words.append(i.split('@'))  \n",
        "print(words)    "
      ],
      "id": "fa6adffd",
      "execution_count": null,
      "outputs": [
        {
          "output_type": "stream",
          "text": [
            "[['turboslayer', 'gmail.com'], ['someone', 'outlook.com'], ['crashtv', 'gov.in'], ['blue_defender', 'gmail.com'], ['logan', 'yahoo.com'], ['ironmerc', 'gov.in'], ['steeltitan', 'outlook.com'], ['stealthedefender', 'yahoo.com'], ['blaze_assault', 'gov.in'], ['venom_fate', 'yahoo.com'], ['dark_side', 'yahoo.com'], ['fataldestiny', 'yahoo.com'], ['ultimatebeast', 'outlook.com'], ['masked_titan', 'gmail.com'], ['frozen_gunner', 'yahoo.com'], ['username_copied', 'gov.in'], ['whos_ur_buddy', 'outlook.com'], ['unfinished_sentenc', 'gov.in'], ['all_gone', 'gov.in'], ['something', 'gmail.com'], ['president', 'gmail.com'], ['tinfoilhat', 'gmail.com'], ['anonymouse', 'yahoo.com'], ['definitely_not_an_athlete', 'outlook.com'], ['dropout', 'gov.in'], ['paw_friend', 'outlook.com'], ['test_name_please_ignore', 'gov.in'], ['heyyou', 'gov.in'], ['a_distraction', 'yahoo.com'], ['thegodfatherpart4', 'gov.in'], ['unfriendme', 'outlook.com'], ['doodles', 'gmail.com'], ['fluffycookie', 'yahoo.com'], ['theintolerant', 'gmail.com'], ['fourhour', 'yahoo.com'], ['toastedwithcheese', 'gmail.com'], ['futureking', 'yahoo.com'], ['coolshirtbruh', 'outlook.com'], ['kentucky', 'yahoo.com'], ['chocolate', 'gmail.com'], ['saintbroseph', 'yahoo.com'], ['just_chillin', 'gmail.com'], ['ghostface', 'gov.in'], ['bigfootisreal', 'yahoo.com'], ['newbie', 'yahoo.com'], ['alienware', 'outlook.com'], ['chrishemsworth', 'outlook.com'], ['nachocheesefries', 'outlook.com'], ['reginageorge', 'gov.in'], ['harmless_potato', 'outlook.com'], ['frostedcupcake', 'outlook.com'], ['avocadorable', 'outlook.com'], ['pixie_dust', 'gmail.com'], ['chopsuey', 'yahoo.com'], ['iron_man', 'gov.in'], ['lemon_ade', 'outlook.com'], ['cerial_killer', 'outlook.com'], ['light_year', 'gov.in'], ['phoenix', 'outlook.com'], ['harry_potter', 'outlook.com']]\n"
          ],
          "name": "stdout"
        }
      ]
    },
    {
      "cell_type": "code",
      "metadata": {
        "id": "8dc2d0be",
        "outputId": "9491b801-b0eb-4cd6-9a02-0496a600c7bf"
      },
      "source": [
        "gmail_count = 0\n",
        "outlook_count = 0\n",
        "gov_count = 0\n",
        "yahoo_count = 0\n",
        "for i in words:\n",
        "    if(i[1]==\"gmail.com\"):\n",
        "        gmail_count +=1\n",
        "    if(i[1]==\"outlook.com\"):\n",
        "        outlook_count +=1\n",
        "    if(i[1]==\"gov.in\"):\n",
        "        gov_count +=1\n",
        "    if(i[1]==\"yahoo.com\"):\n",
        "        yahoo_count +=1\n",
        "others = count - (gmail_count + outlook_count + gov_count + yahoo_count)\n",
        "print(gmail_count, outlook_count, gov_count, yahoo_count, others)"
      ],
      "id": "8dc2d0be",
      "execution_count": null,
      "outputs": [
        {
          "output_type": "stream",
          "text": [
            "12 18 14 16 0\n"
          ],
          "name": "stdout"
        }
      ]
    },
    {
      "cell_type": "code",
      "metadata": {
        "id": "d7ad10df",
        "outputId": "f6241dc3-132a-447c-fa16-d1ba7f0aae37"
      },
      "source": [
        "mail_count = {\"gmail\" : gmail_count, \"outlook\" : outlook_count, \"gov\" : gov_count, \"yahoo\" : yahoo_count, \"others\" : others}\n",
        "print(mail_count)"
      ],
      "id": "d7ad10df",
      "execution_count": null,
      "outputs": [
        {
          "output_type": "stream",
          "text": [
            "{'gmail': 12, 'outlook': 18, 'gov': 14, 'yahoo': 16, 'others': 0}\n"
          ],
          "name": "stdout"
        }
      ]
    },
    {
      "cell_type": "code",
      "metadata": {
        "id": "4ede3d72",
        "outputId": "0d81fd21-7031-438f-b4fb-58518e49c5bc"
      },
      "source": [
        "value = input(\"Enter your choice : \")\n",
        "print(\"The number of {} IDs is {}\".format(value,mail_count[value]))"
      ],
      "id": "4ede3d72",
      "execution_count": null,
      "outputs": [
        {
          "output_type": "stream",
          "text": [
            "Enter your choice : gmail\n",
            "The number of gmail IDs is 12\n"
          ],
          "name": "stdout"
        }
      ]
    },
    {
      "cell_type": "code",
      "metadata": {
        "id": "49fe9e5a"
      },
      "source": [
        ""
      ],
      "id": "49fe9e5a",
      "execution_count": null,
      "outputs": []
    }
  ]
}