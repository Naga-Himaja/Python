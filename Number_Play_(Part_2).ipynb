{
  "nbformat": 4,
  "nbformat_minor": 5,
  "metadata": {
    "kernelspec": {
      "display_name": "Python 3",
      "language": "python",
      "name": "python3"
    },
    "language_info": {
      "codemirror_mode": {
        "name": "ipython",
        "version": 3
      },
      "file_extension": ".py",
      "mimetype": "text/x-python",
      "name": "python",
      "nbconvert_exporter": "python",
      "pygments_lexer": "ipython3",
      "version": "3.8.10"
    },
    "colab": {
      "name": "Number Play (Part 2).ipynb",
      "provenance": [],
      "include_colab_link": true
    }
  },
  "cells": [
    {
      "cell_type": "markdown",
      "metadata": {
        "id": "view-in-github",
        "colab_type": "text"
      },
      "source": [
        "<a href=\"https://colab.research.google.com/github/Naga-Himaja/Python/blob/Minor-coding-problems/Number_Play_(Part_2).ipynb\" target=\"_parent\"><img src=\"https://colab.research.google.com/assets/colab-badge.svg\" alt=\"Open In Colab\"/></a>"
      ]
    },
    {
      "cell_type": "markdown",
      "metadata": {
        "id": "e96100db"
      },
      "source": [
        "# Prime or not!?"
      ],
      "id": "e96100db"
    },
    {
      "cell_type": "code",
      "metadata": {
        "id": "423fec61",
        "outputId": "1756fe89-2560-4ccd-e593-43722bd4b368"
      },
      "source": [
        "print(\"Let us check if a given number is prime\")\n",
        "n = int(input(\"Enter a number : \"))\n",
        "if(n==1):\n",
        "    print(\"1 is neither prime nor composite\")\n",
        "else:\n",
        "    i=2\n",
        "    while(i<=n/2):\n",
        "        if(n%i==0):\n",
        "            print(\"The given number {} is composite\".format(n))\n",
        "            break\n",
        "        else:\n",
        "            i=i+1\n",
        "    if(i>n/2):\n",
        "        print(\"The given number {} is prime\".format(n))"
      ],
      "id": "423fec61",
      "execution_count": null,
      "outputs": [
        {
          "output_type": "stream",
          "text": [
            "Let us check if a given number is prime\n",
            "Enter a number : 1\n",
            "1 is neither prime nor composite\n"
          ],
          "name": "stdout"
        }
      ]
    },
    {
      "cell_type": "markdown",
      "metadata": {
        "id": "c5b755e2"
      },
      "source": [
        "# Prime between Poles"
      ],
      "id": "c5b755e2"
    },
    {
      "cell_type": "code",
      "metadata": {
        "id": "e6e548cf",
        "outputId": "346dd44c-9508-4eb6-c4bc-07001b3de409"
      },
      "source": [
        "x,y = int(input(\"Enter the lower limit : \")),int(input(\"Enter the upper limit : \"))\n",
        "print(\"The prime numbers in the given range are as follows : \")\n",
        "n=x\n",
        "while(n<=y):\n",
        "    i=2\n",
        "    fc=0\n",
        "    while(i<=n/2):\n",
        "        if(n%i==0):\n",
        "            fc=fc+1\n",
        "            i=i+1\n",
        "        else:\n",
        "            i=i+1\n",
        "    if(fc==0):\n",
        "        print(n)\n",
        "        n=n+1\n",
        "    else:\n",
        "        n=n+1"
      ],
      "id": "e6e548cf",
      "execution_count": null,
      "outputs": [
        {
          "output_type": "stream",
          "text": [
            "Enter the lower limit : 2\n",
            "Enter the upper limit : 17\n",
            "The prime numbers in the given range are as follows : \n",
            "2\n",
            "3\n",
            "5\n",
            "7\n",
            "11\n",
            "13\n",
            "17\n"
          ],
          "name": "stdout"
        }
      ]
    },
    {
      "cell_type": "markdown",
      "metadata": {
        "id": "02eb5fc9"
      },
      "source": [
        "# Factorial! "
      ],
      "id": "02eb5fc9"
    },
    {
      "cell_type": "code",
      "metadata": {
        "id": "429cb883",
        "outputId": "c776c4cb-581e-42be-fb61-1b3533daae1d"
      },
      "source": [
        "print(\"Let us find the factorial of a number!\");\n",
        "n = int(input(\"Enter a number : \"))\n",
        "m=n\n",
        "fact=1\n",
        "while(n!=1):\n",
        "    fact=fact*n\n",
        "    n=n-1\n",
        "print(\"The factorial is of {} is {}\".format(m,fact))    "
      ],
      "id": "429cb883",
      "execution_count": null,
      "outputs": [
        {
          "output_type": "stream",
          "text": [
            "Let us find the factorial of a number!\n",
            "Enter a number : 4\n",
            "The factorial is of 4 is 24\n"
          ],
          "name": "stdout"
        }
      ]
    },
    {
      "cell_type": "markdown",
      "metadata": {
        "id": "6d771967"
      },
      "source": [
        "# Multiplication Table"
      ],
      "id": "6d771967"
    },
    {
      "cell_type": "code",
      "metadata": {
        "id": "104de22c",
        "outputId": "c0bf5495-7032-492f-8eba-742feb2a3849"
      },
      "source": [
        "print(\"Let us learn multiplication tables today\")\n",
        "n = int(input(\"Which table shall we learn today? : \"))\n",
        "for i in range(1,11):\n",
        "    print(\"{} {}s are {}\".format(n,i,n*i))"
      ],
      "id": "104de22c",
      "execution_count": null,
      "outputs": [
        {
          "output_type": "stream",
          "text": [
            "Let us learn multiplication tables today\n",
            "Which table shall we learn today? : 10\n",
            "10 1s are 10\n",
            "10 2s are 20\n",
            "10 3s are 30\n",
            "10 4s are 40\n",
            "10 5s are 50\n",
            "10 6s are 60\n",
            "10 7s are 70\n",
            "10 8s are 80\n",
            "10 9s are 90\n",
            "10 10s are 100\n"
          ],
          "name": "stdout"
        }
      ]
    },
    {
      "cell_type": "code",
      "metadata": {
        "id": "73f0a773"
      },
      "source": [
        ""
      ],
      "id": "73f0a773",
      "execution_count": null,
      "outputs": []
    }
  ]
}