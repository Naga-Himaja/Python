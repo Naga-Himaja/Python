{
  "nbformat": 4,
  "nbformat_minor": 5,
  "metadata": {
    "kernelspec": {
      "display_name": "Python 3",
      "language": "python",
      "name": "python3"
    },
    "language_info": {
      "codemirror_mode": {
        "name": "ipython",
        "version": 3
      },
      "file_extension": ".py",
      "mimetype": "text/x-python",
      "name": "python",
      "nbconvert_exporter": "python",
      "pygments_lexer": "ipython3",
      "version": "3.8.8"
    },
    "colab": {
      "name": "If else question in set.ipynb",
      "provenance": [],
      "include_colab_link": true
    }
  },
  "cells": [
    {
      "cell_type": "markdown",
      "metadata": {
        "id": "view-in-github",
        "colab_type": "text"
      },
      "source": [
        "<a href=\"https://colab.research.google.com/github/Naga-Himaja/Naga-Himaja/blob/Practice/If_else_question_in_set.ipynb\" target=\"_parent\"><img src=\"https://colab.research.google.com/assets/colab-badge.svg\" alt=\"Open In Colab\"/></a>"
      ]
    },
    {
      "cell_type": "markdown",
      "metadata": {
        "id": "8c288a9c"
      },
      "source": [
        "\n",
        "\n",
        "# If else loop "
      ],
      "id": "8c288a9c"
    },
    {
      "cell_type": "code",
      "metadata": {
        "id": "77d81ce5"
      },
      "source": [
        "my_dict = {'a' : 1, 'b' : 2, 'c' : 3}\n"
      ],
      "id": "77d81ce5",
      "execution_count": null,
      "outputs": []
    },
    {
      "cell_type": "code",
      "metadata": {
        "id": "906d8331",
        "outputId": "97006d29-d4a1-44e8-8a48-2d86dec33f11"
      },
      "source": [
        "check = int(input(\"Enter 4 to continue : \"))"
      ],
      "id": "906d8331",
      "execution_count": null,
      "outputs": [
        {
          "output_type": "stream",
          "text": [
            "Enter 4 to continue : 4\n"
          ],
          "name": "stdout"
        }
      ]
    },
    {
      "cell_type": "code",
      "metadata": {
        "id": "30e9d03b",
        "outputId": "e75d7f23-2b18-40b2-c45c-1a79827a2e9e"
      },
      "source": [
        "if (check==4):\n",
        "    char = input(\"Enter the required character : \")\n",
        "    print(\"The given character is {0} and its corresponding value in the set is {1}\".format(char,my_dict[char]))\n",
        "else:\n",
        "    print(\"You are out of loop\")"
      ],
      "id": "30e9d03b",
      "execution_count": null,
      "outputs": [
        {
          "output_type": "stream",
          "text": [
            "Enter the required character : b\n",
            "The given character is b and its corresponding value in the set is 2\n"
          ],
          "name": "stdout"
        }
      ]
    },
    {
      "cell_type": "code",
      "metadata": {
        "id": "76f2f003"
      },
      "source": [
        ""
      ],
      "id": "76f2f003",
      "execution_count": null,
      "outputs": []
    }
  ]
}