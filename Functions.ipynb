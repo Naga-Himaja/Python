{
  "nbformat": 4,
  "nbformat_minor": 5,
  "metadata": {
    "kernelspec": {
      "display_name": "Python 3",
      "language": "python",
      "name": "python3"
    },
    "language_info": {
      "codemirror_mode": {
        "name": "ipython",
        "version": 3
      },
      "file_extension": ".py",
      "mimetype": "text/x-python",
      "name": "python",
      "nbconvert_exporter": "python",
      "pygments_lexer": "ipython3",
      "version": "3.8.8"
    },
    "colab": {
      "name": "Functions.ipynb",
      "provenance": [],
      "collapsed_sections": [],
      "include_colab_link": true
    }
  },
  "cells": [
    {
      "cell_type": "markdown",
      "metadata": {
        "id": "view-in-github",
        "colab_type": "text"
      },
      "source": [
        "<a href=\"https://colab.research.google.com/github/Naga-Himaja/Naga-Himaja/blob/main/Functions.ipynb\" target=\"_parent\"><img src=\"https://colab.research.google.com/assets/colab-badge.svg\" alt=\"Open In Colab\"/></a>"
      ]
    },
    {
      "cell_type": "markdown",
      "metadata": {
        "id": "77c06c97"
      },
      "source": [
        "# Functions\n"
      ],
      "id": "77c06c97"
    },
    {
      "cell_type": "markdown",
      "metadata": {
        "id": "782e83ed"
      },
      "source": [
        "User Defined"
      ],
      "id": "782e83ed"
    },
    {
      "cell_type": "code",
      "metadata": {
        "id": "52b7fdd5",
        "outputId": "f105dd9f-010b-4d4d-e9fc-00c7f84a44a9"
      },
      "source": [
        "abs(-1)"
      ],
      "id": "52b7fdd5",
      "execution_count": null,
      "outputs": [
        {
          "output_type": "execute_result",
          "data": {
            "text/plain": [
              "1"
            ]
          },
          "metadata": {
            "tags": []
          },
          "execution_count": 1
        }
      ]
    },
    {
      "cell_type": "code",
      "metadata": {
        "id": "e93a13e3",
        "outputId": "3e043de2-f75e-40b4-b5cc-6e9d09973526"
      },
      "source": [
        "max(1,5,3,8)"
      ],
      "id": "e93a13e3",
      "execution_count": null,
      "outputs": [
        {
          "output_type": "execute_result",
          "data": {
            "text/plain": [
              "8"
            ]
          },
          "metadata": {
            "tags": []
          },
          "execution_count": 2
        }
      ]
    },
    {
      "cell_type": "code",
      "metadata": {
        "id": "fcf7678c",
        "outputId": "dedb4a5e-ead5-4ac0-a323-2988f19b0e10"
      },
      "source": [
        "min(2,8,3,0,-6)"
      ],
      "id": "fcf7678c",
      "execution_count": null,
      "outputs": [
        {
          "output_type": "execute_result",
          "data": {
            "text/plain": [
              "-6"
            ]
          },
          "metadata": {
            "tags": []
          },
          "execution_count": 3
        }
      ]
    },
    {
      "cell_type": "code",
      "metadata": {
        "id": "1d3532ab",
        "outputId": "38b35fcf-01b6-4518-94a0-2693b2010467"
      },
      "source": [
        "sum([4,2,3])"
      ],
      "id": "1d3532ab",
      "execution_count": null,
      "outputs": [
        {
          "output_type": "execute_result",
          "data": {
            "text/plain": [
              "9"
            ]
          },
          "metadata": {
            "tags": []
          },
          "execution_count": 4
        }
      ]
    },
    {
      "cell_type": "code",
      "metadata": {
        "id": "c001ce88",
        "outputId": "967df401-db33-40c3-96c4-15db0f3da2f2"
      },
      "source": [
        "l=[2,3,6]\n",
        "sum(l)"
      ],
      "id": "c001ce88",
      "execution_count": null,
      "outputs": [
        {
          "output_type": "execute_result",
          "data": {
            "text/plain": [
              "11"
            ]
          },
          "metadata": {
            "tags": []
          },
          "execution_count": 5
        }
      ]
    },
    {
      "cell_type": "code",
      "metadata": {
        "id": "5664af9f",
        "outputId": "119c4ae6-1a0f-4491-de71-2cc6bfcd56fc"
      },
      "source": [
        "pow(2,3)"
      ],
      "id": "5664af9f",
      "execution_count": null,
      "outputs": [
        {
          "output_type": "execute_result",
          "data": {
            "text/plain": [
              "8"
            ]
          },
          "metadata": {
            "tags": []
          },
          "execution_count": 6
        }
      ]
    },
    {
      "cell_type": "code",
      "metadata": {
        "id": "07a113f4",
        "outputId": "bc6161fc-9478-477e-c470-5d0f5380004b"
      },
      "source": [
        "round(2.5)"
      ],
      "id": "07a113f4",
      "execution_count": null,
      "outputs": [
        {
          "output_type": "execute_result",
          "data": {
            "text/plain": [
              "2"
            ]
          },
          "metadata": {
            "tags": []
          },
          "execution_count": 7
        }
      ]
    },
    {
      "cell_type": "code",
      "metadata": {
        "id": "acb8adbb",
        "outputId": "2c5061b2-1ce0-49d4-8bb9-715f0532575f"
      },
      "source": [
        "round(11.5)"
      ],
      "id": "acb8adbb",
      "execution_count": null,
      "outputs": [
        {
          "output_type": "execute_result",
          "data": {
            "text/plain": [
              "12"
            ]
          },
          "metadata": {
            "tags": []
          },
          "execution_count": 8
        }
      ]
    },
    {
      "cell_type": "markdown",
      "metadata": {
        "id": "cbb2378f"
      },
      "source": [
        "# Math module"
      ],
      "id": "cbb2378f"
    },
    {
      "cell_type": "code",
      "metadata": {
        "id": "b68c8263"
      },
      "source": [
        "import math"
      ],
      "id": "b68c8263",
      "execution_count": 1,
      "outputs": []
    },
    {
      "cell_type": "code",
      "metadata": {
        "id": "4b0a984b",
        "outputId": "f34d026a-64b4-4937-86ca-84acc200e337"
      },
      "source": [
        "math.ceil(2.1)"
      ],
      "id": "4b0a984b",
      "execution_count": null,
      "outputs": [
        {
          "output_type": "execute_result",
          "data": {
            "text/plain": [
              "3"
            ]
          },
          "metadata": {
            "tags": []
          },
          "execution_count": 10
        }
      ]
    },
    {
      "cell_type": "code",
      "metadata": {
        "id": "60feaa9b",
        "outputId": "1766c2bd-e946-4d33-e440-e953682ce884"
      },
      "source": [
        "math.floor(2.9)"
      ],
      "id": "60feaa9b",
      "execution_count": null,
      "outputs": [
        {
          "output_type": "execute_result",
          "data": {
            "text/plain": [
              "2"
            ]
          },
          "metadata": {
            "tags": []
          },
          "execution_count": 11
        }
      ]
    },
    {
      "cell_type": "code",
      "metadata": {
        "id": "17129b95",
        "outputId": "09326c3c-867c-4cb1-adf3-df7589c891ae"
      },
      "source": [
        "math.log(2,2)"
      ],
      "id": "17129b95",
      "execution_count": null,
      "outputs": [
        {
          "output_type": "execute_result",
          "data": {
            "text/plain": [
              "1.0"
            ]
          },
          "metadata": {
            "tags": []
          },
          "execution_count": 12
        }
      ]
    },
    {
      "cell_type": "code",
      "metadata": {
        "id": "0c15b40f",
        "outputId": "1998e168-ffdc-427d-db80-b8c93ffda71b"
      },
      "source": [
        "math.sqrt(25)\n",
        "#This is equivalent to print(25**(1/2))"
      ],
      "id": "0c15b40f",
      "execution_count": null,
      "outputs": [
        {
          "output_type": "execute_result",
          "data": {
            "text/plain": [
              "5.0"
            ]
          },
          "metadata": {
            "tags": []
          },
          "execution_count": 13
        }
      ]
    },
    {
      "cell_type": "markdown",
      "metadata": {
        "id": "26e97313"
      },
      "source": [
        "# ASCII"
      ],
      "id": "26e97313"
    },
    {
      "cell_type": "code",
      "metadata": {
        "colab": {
          "base_uri": "https://localhost:8080/"
        },
        "id": "5f425057",
        "outputId": "2973298b-43be-421a-9581-e0b76075de23"
      },
      "source": [
        "ord('d')"
      ],
      "id": "5f425057",
      "execution_count": 2,
      "outputs": [
        {
          "output_type": "execute_result",
          "data": {
            "text/plain": [
              "100"
            ]
          },
          "metadata": {
            "tags": []
          },
          "execution_count": 2
        }
      ]
    },
    {
      "cell_type": "code",
      "metadata": {
        "id": "236aa36b",
        "outputId": "5359c6de-a5ad-4a7f-d951-c9f2bf28795e"
      },
      "source": [
        "ord('A')"
      ],
      "id": "236aa36b",
      "execution_count": null,
      "outputs": [
        {
          "output_type": "execute_result",
          "data": {
            "text/plain": [
              "65"
            ]
          },
          "metadata": {
            "tags": []
          },
          "execution_count": 15
        }
      ]
    },
    {
      "cell_type": "code",
      "metadata": {
        "id": "b5a2123e",
        "outputId": "5756fee9-3247-4f78-af37-317249352971"
      },
      "source": [
        "chr(99)"
      ],
      "id": "b5a2123e",
      "execution_count": null,
      "outputs": [
        {
          "output_type": "execute_result",
          "data": {
            "text/plain": [
              "'c'"
            ]
          },
          "metadata": {
            "tags": []
          },
          "execution_count": 16
        }
      ]
    },
    {
      "cell_type": "markdown",
      "metadata": {
        "id": "ce1aecd4"
      },
      "source": [
        "# Rotate Letters in String"
      ],
      "id": "ce1aecd4"
    },
    {
      "cell_type": "code",
      "metadata": {
        "id": "a666034e",
        "outputId": "f3fe3e1e-308f-4ef5-e405-1b256db33a6c"
      },
      "source": [
        "s=\"ABCDEF\"\n",
        "s1=\"\"\n",
        "for i in s:\n",
        "    s1=s1+chr(ord(i)+2)\n",
        "print(s1)    "
      ],
      "id": "a666034e",
      "execution_count": null,
      "outputs": [
        {
          "output_type": "stream",
          "text": [
            "CDEFGH\n"
          ],
          "name": "stdout"
        }
      ]
    },
    {
      "cell_type": "code",
      "metadata": {
        "id": "3962d2d9",
        "outputId": "2da1d8a4-22b7-4e6c-d279-837c700747c2"
      },
      "source": [
        "#The above code can also be written as follows:\n",
        "for i in s:\n",
        "    print(chr(ord(i)+2),end=\"\")"
      ],
      "id": "3962d2d9",
      "execution_count": null,
      "outputs": [
        {
          "output_type": "stream",
          "text": [
            "CDEFGH"
          ],
          "name": "stdout"
        }
      ]
    },
    {
      "cell_type": "markdown",
      "metadata": {
        "id": "4550eb1a"
      },
      "source": [
        "# User-defined functions"
      ],
      "id": "4550eb1a"
    },
    {
      "cell_type": "code",
      "metadata": {
        "id": "ce935130",
        "outputId": "c17ee1f1-b75b-4df0-e535-fb296bcea059"
      },
      "source": [
        "def hello():\n",
        "    print(\"Hello Folks!\")\n",
        "hello()    "
      ],
      "id": "ce935130",
      "execution_count": null,
      "outputs": [
        {
          "output_type": "stream",
          "text": [
            "Hello Folks!\n"
          ],
          "name": "stdout"
        }
      ]
    },
    {
      "cell_type": "code",
      "metadata": {
        "id": "8f0d58b2",
        "outputId": "47a2e984-e8ef-4cb5-f6b8-96a11809745c"
      },
      "source": [
        "def square(x):\n",
        "    print(pow(x,2))\n",
        "    \n",
        "square(15)    \n"
      ],
      "id": "8f0d58b2",
      "execution_count": null,
      "outputs": [
        {
          "output_type": "stream",
          "text": [
            "225\n"
          ],
          "name": "stdout"
        }
      ]
    },
    {
      "cell_type": "code",
      "metadata": {
        "id": "8c4a287f",
        "outputId": "33140f60-9576-482e-c423-7c103d6c9b1b"
      },
      "source": [
        "def sumint(x):\n",
        "    return (x*(x+1)/2)\n",
        "sumint(10)"
      ],
      "id": "8c4a287f",
      "execution_count": null,
      "outputs": [
        {
          "output_type": "execute_result",
          "data": {
            "text/plain": [
              "55.0"
            ]
          },
          "metadata": {
            "tags": []
          },
          "execution_count": 21
        }
      ]
    },
    {
      "cell_type": "code",
      "metadata": {
        "id": "505d7092",
        "outputId": "4a2a76de-7ace-4588-cb89-c1a8049f40f0"
      },
      "source": [
        "def fum():\n",
        "    pass\n",
        "print(type(fum))"
      ],
      "id": "505d7092",
      "execution_count": null,
      "outputs": [
        {
          "output_type": "stream",
          "text": [
            "<class 'function'>\n"
          ],
          "name": "stdout"
        }
      ]
    },
    {
      "cell_type": "code",
      "metadata": {
        "id": "75b45e6d",
        "outputId": "895553e0-c01b-451a-de47-b7f82a7cdedb"
      },
      "source": [
        "def add(x,y):\n",
        "    return(x+y)\n",
        "a= int(input(\"Enter the first number : \"))\n",
        "b= int(input(\"Enter the second number : \"))\n",
        "print(\"The sum is {}\".format(add(a,b)))"
      ],
      "id": "75b45e6d",
      "execution_count": null,
      "outputs": [
        {
          "output_type": "stream",
          "text": [
            "Enter the first number : 4\n",
            "Enter the second number : 5\n",
            "The sum is 9\n"
          ],
          "name": "stdout"
        }
      ]
    },
    {
      "cell_type": "markdown",
      "metadata": {
        "id": "a837c156"
      },
      "source": [
        "# Add number in the list"
      ],
      "id": "a837c156"
    },
    {
      "cell_type": "code",
      "metadata": {
        "id": "c41494cc",
        "outputId": "74fb97cc-49d9-496c-dbbd-b3cc424d3a3c"
      },
      "source": [
        "def add_list(l):\n",
        "    s=0\n",
        "    for i in l:\n",
        "        s=s+i\n",
        "    return s    \n",
        "l= list(map(int,input(\"Enter the numbers of the list : \").split(\" \")))\n",
        "print(\"The numbers in the list are {}\".format(l))\n",
        "print(\"The sum of the numbers in the list is {}\".format(add_list(l)))"
      ],
      "id": "c41494cc",
      "execution_count": null,
      "outputs": [
        {
          "output_type": "stream",
          "text": [
            "Enter the numbers of the list : 4 2 3 9 6\n",
            "The numbers in the list are [4, 2, 3, 9, 6]\n",
            "The sum of the numbers in the list is 24\n"
          ],
          "name": "stdout"
        }
      ]
    },
    {
      "cell_type": "markdown",
      "metadata": {
        "id": "3b1da25b"
      },
      "source": [
        "# Odd number "
      ],
      "id": "3b1da25b"
    },
    {
      "cell_type": "code",
      "metadata": {
        "id": "fb6be39a",
        "outputId": "8a8e4251-8927-4128-c81d-69063640490d"
      },
      "source": [
        "def checkOdd(x):\n",
        "    if(x%2):\n",
        "        return True\n",
        "    else:\n",
        "        return False\n",
        "for i in l:\n",
        "    if(checkOdd(i)):\n",
        "        print(\"{} is odd\".format(i))\n",
        "    else:\n",
        "        print(\"{} is even\".format(i))"
      ],
      "id": "fb6be39a",
      "execution_count": null,
      "outputs": [
        {
          "output_type": "stream",
          "text": [
            "4 is even\n",
            "2 is even\n",
            "3 is odd\n",
            "9 is odd\n",
            "6 is even\n"
          ],
          "name": "stdout"
        }
      ]
    },
    {
      "cell_type": "markdown",
      "metadata": {
        "id": "c2dfd409"
      },
      "source": [
        "# Default\n"
      ],
      "id": "c2dfd409"
    },
    {
      "cell_type": "code",
      "metadata": {
        "id": "650cd80b",
        "outputId": "4de126ce-af96-472d-a6a9-b63241436c8f"
      },
      "source": [
        "def hai(x=\"everyone\"):\n",
        "    return \"Welcome \"+x\n",
        "name=input(\"\")\n",
        "print(hai(name))"
      ],
      "id": "650cd80b",
      "execution_count": null,
      "outputs": [
        {
          "output_type": "stream",
          "text": [
            "Himaja\n",
            "Welcome Himaja\n"
          ],
          "name": "stdout"
        }
      ]
    },
    {
      "cell_type": "markdown",
      "metadata": {
        "id": "b5bbe22f"
      },
      "source": [
        "# Recursion "
      ],
      "id": "b5bbe22f"
    },
    {
      "cell_type": "raw",
      "metadata": {
        "id": "ecfa360a"
      },
      "source": [
        "Recursive function is the function that calls itself over and over with changed parameters."
      ],
      "id": "ecfa360a"
    },
    {
      "cell_type": "code",
      "metadata": {
        "id": "951aade8",
        "outputId": "02902e09-ee57-4c50-a1cf-16883cbe8840"
      },
      "source": [
        "def fun(x):\n",
        "    print(x)\n",
        "    if(x<=0):\n",
        "        return 0\n",
        "    fun (x-1)\n",
        "fun(int(input(\"\")))    "
      ],
      "id": "951aade8",
      "execution_count": null,
      "outputs": [
        {
          "output_type": "stream",
          "text": [
            "8\n",
            "8\n",
            "7\n",
            "6\n",
            "5\n",
            "4\n",
            "3\n",
            "2\n",
            "1\n",
            "0\n"
          ],
          "name": "stdout"
        }
      ]
    },
    {
      "cell_type": "markdown",
      "metadata": {
        "id": "5afbd5fb"
      },
      "source": [
        "# Scope"
      ],
      "id": "5afbd5fb"
    },
    {
      "cell_type": "code",
      "metadata": {
        "id": "40787dbb",
        "outputId": "a15715dc-b6d5-4078-8cd6-2e4b05e509a3"
      },
      "source": [
        "def fun():\n",
        "    print(s)\n",
        "s=input(\"Enter a string : \")\n",
        "fun()\n",
        "#Here 's' is a global variable. Thus, though there is no seperate variable declared in fun function, we get an output"
      ],
      "id": "40787dbb",
      "execution_count": null,
      "outputs": [
        {
          "output_type": "stream",
          "text": [
            "Enter a string : Hola\n",
            "Hola\n"
          ],
          "name": "stdout"
        }
      ]
    },
    {
      "cell_type": "markdown",
      "metadata": {
        "id": "2b0c52d2"
      },
      "source": [
        "# List Comprehension"
      ],
      "id": "2b0c52d2"
    },
    {
      "cell_type": "code",
      "metadata": {
        "id": "3438cad4"
      },
      "source": [
        "l1=[2,3,4,5,6,7,55,23]\n",
        "l2=[]\n",
        "for i in l1:\n",
        "    if(i>3):\n",
        "        l2.append(i)\n",
        "print(l1)   \n",
        "print(l2)\n",
        "\n",
        "#The above logic can be achieved using the following code in the next Kernel"
      ],
      "id": "3438cad4",
      "execution_count": null,
      "outputs": []
    },
    {
      "cell_type": "code",
      "metadata": {
        "id": "9747b442"
      },
      "source": [
        "l2=[x for x in l1 if(x>3)]\n",
        "print(l2)"
      ],
      "id": "9747b442",
      "execution_count": null,
      "outputs": []
    },
    {
      "cell_type": "code",
      "metadata": {
        "id": "c60299f4"
      },
      "source": [
        ""
      ],
      "id": "c60299f4",
      "execution_count": null,
      "outputs": []
    }
  ]
}