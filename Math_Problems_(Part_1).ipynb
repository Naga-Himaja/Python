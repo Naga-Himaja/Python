{
  "nbformat": 4,
  "nbformat_minor": 5,
  "metadata": {
    "kernelspec": {
      "display_name": "Python 3",
      "language": "python",
      "name": "python3"
    },
    "language_info": {
      "codemirror_mode": {
        "name": "ipython",
        "version": 3
      },
      "file_extension": ".py",
      "mimetype": "text/x-python",
      "name": "python",
      "nbconvert_exporter": "python",
      "pygments_lexer": "ipython3",
      "version": "3.8.10"
    },
    "colab": {
      "name": "Math_Problems (Part 1).ipynb",
      "provenance": [],
      "include_colab_link": true
    }
  },
  "cells": [
    {
      "cell_type": "markdown",
      "metadata": {
        "id": "view-in-github",
        "colab_type": "text"
      },
      "source": [
        "<a href=\"https://colab.research.google.com/github/Naga-Himaja/Python/blob/Minor-coding-problems/Math_Problems_(Part_1).ipynb\" target=\"_parent\"><img src=\"https://colab.research.google.com/assets/colab-badge.svg\" alt=\"Open In Colab\"/></a>"
      ]
    },
    {
      "cell_type": "markdown",
      "metadata": {
        "id": "37dfef04"
      },
      "source": [
        "# Sum of cube of each digit of a number"
      ],
      "id": "37dfef04"
    },
    {
      "cell_type": "code",
      "metadata": {
        "id": "47b62909",
        "outputId": "b6c59217-fe89-47ce-9c99-206e555a48da"
      },
      "source": [
        "print(\"Let us write a code to find the sum of cube of each digit in a number.\\n\")\n",
        "num = n = int(input(\"Enter a number : \"))\n",
        "sum=0\n",
        "while(n>0):\n",
        "    sum += (n%10)**3\n",
        "    n=n//10\n",
        "print(\"\\nThe sum of the cubes of the number {} is {}\".format(num,sum))    "
      ],
      "id": "47b62909",
      "execution_count": null,
      "outputs": [
        {
          "output_type": "stream",
          "text": [
            "Let us write a code to find the sum of cube of each digit in a number.\n",
            "\n",
            "Enter a number : 123\n",
            "\n",
            "The sum of the cubes of the number 123 is 36\n"
          ],
          "name": "stdout"
        }
      ]
    },
    {
      "cell_type": "markdown",
      "metadata": {
        "id": "1d7bb881"
      },
      "source": [
        "# Armstrong numbers in a given intervel"
      ],
      "id": "1d7bb881"
    },
    {
      "cell_type": "code",
      "metadata": {
        "id": "ab185de9",
        "outputId": "9589b496-5240-42d1-8a36-a2426ba0ae43"
      },
      "source": [
        "print(\"Give us two numbers and we will tell you the armstrong numbers between those limits\\n\")\n",
        "lower_limit = int(input(\"Enter the lower limit : \"))\n",
        "upper_limit = int(input(\"Enter the upper limit : \"))\n",
        "temp = lower_limit\n",
        "sum=0\n",
        "if(lower_limit>upper_limit):\n",
        "    print(\"Invalid limits!!\")\n",
        "else:\n",
        "    print(\"The armstrong numbers between the limits {} and {} are : \".format(lower_limit,upper_limit),end=\" \")\n",
        "    while(temp<=upper_limit):\n",
        "        sum=0\n",
        "        n=temp\n",
        "        while(n!=0):\n",
        "            sum=sum+(n%10)**3\n",
        "            n=n//10\n",
        "        if(sum==temp):\n",
        "            print(temp,end=\" \")\n",
        "        temp=temp+1    "
      ],
      "id": "ab185de9",
      "execution_count": null,
      "outputs": [
        {
          "output_type": "stream",
          "text": [
            "Give us two numbers and we will tell you the armstrong numbers between those limits\n",
            "\n",
            "Enter the lower limit : 300\n",
            "Enter the upper limit : 400\n",
            "The armstrong numbers between the limits 300 and 400 are :  370 371 "
          ],
          "name": "stdout"
        }
      ]
    },
    {
      "cell_type": "markdown",
      "metadata": {
        "id": "54093ef5"
      },
      "source": [
        "# Sum of natural numbers "
      ],
      "id": "54093ef5"
    },
    {
      "cell_type": "code",
      "metadata": {
        "id": "80993979",
        "outputId": "359c00d1-fcd5-49d8-e017-7d73d3280764"
      },
      "source": [
        "num = int(input(\"Enter a natural number : \"))\n",
        "sum=0\n",
        "for i in range(1,num+1):\n",
        "    sum += i\n",
        "print(\"The sum of {} natural numbers is : {}\".format(num,sum))    "
      ],
      "id": "80993979",
      "execution_count": null,
      "outputs": [
        {
          "output_type": "stream",
          "text": [
            "Enter a natural number : 5\n",
            "The sum of 5 natural numbers is : 15\n"
          ],
          "name": "stdout"
        }
      ]
    },
    {
      "cell_type": "markdown",
      "metadata": {
        "id": "1c38ae72"
      },
      "source": [
        "#  Display Powers of 2 Using Anonymous Function"
      ],
      "id": "1c38ae72"
    },
    {
      "cell_type": "code",
      "metadata": {
        "id": "759295cc",
        "outputId": "3eed6fb3-3a49-495c-bd8c-d873cdc87dfb"
      },
      "source": [
        "print(\"Let us print the powers of 2 using anonymous function!\\n\")\n",
        "terms = int(input(\"Enter the number of terms required : \"))\n",
        "result = list(map(lambda x: 2 ** x, range(terms)))\n",
        "for i in range(0,terms):\n",
        "    print(\"2 raised to power\",i,\"is\",result[i])\n"
      ],
      "id": "759295cc",
      "execution_count": null,
      "outputs": [
        {
          "output_type": "stream",
          "text": [
            "Let us print the powers of 2 using anonymous function!\n",
            "\n",
            "Enter the number of terms required : 5\n",
            "2 raised to power 0 is 1\n",
            "2 raised to power 1 is 2\n",
            "2 raised to power 2 is 4\n",
            "2 raised to power 3 is 8\n",
            "2 raised to power 4 is 16\n"
          ],
          "name": "stdout"
        }
      ]
    }
  ]
}