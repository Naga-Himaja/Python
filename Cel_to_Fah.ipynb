{
  "nbformat": 4,
  "nbformat_minor": 5,
  "metadata": {
    "kernelspec": {
      "display_name": "Python 3",
      "language": "python",
      "name": "python3"
    },
    "language_info": {
      "codemirror_mode": {
        "name": "ipython",
        "version": 3
      },
      "file_extension": ".py",
      "mimetype": "text/x-python",
      "name": "python",
      "nbconvert_exporter": "python",
      "pygments_lexer": "ipython3",
      "version": "3.8.10"
    },
    "colab": {
      "name": "Cel to Fah.ipynb",
      "provenance": [],
      "include_colab_link": true
    }
  },
  "cells": [
    {
      "cell_type": "markdown",
      "metadata": {
        "id": "view-in-github",
        "colab_type": "text"
      },
      "source": [
        "<a href=\"https://colab.research.google.com/github/Naga-Himaja/Python/blob/Minor-coding-problems/Cel_to_Fah.ipynb\" target=\"_parent\"><img src=\"https://colab.research.google.com/assets/colab-badge.svg\" alt=\"Open In Colab\"/></a>"
      ]
    },
    {
      "cell_type": "markdown",
      "metadata": {
        "id": "0a3b0e9e"
      },
      "source": [
        "# Celsius to Fahrenheit"
      ],
      "id": "0a3b0e9e"
    },
    {
      "cell_type": "code",
      "metadata": {
        "id": "1a7ab373",
        "outputId": "27ec8b99-9c3a-47ea-b109-b1ce1ceff8d0"
      },
      "source": [
        "print(\"Let us convert the temperature in Celsius to Fahrenheit today!\")"
      ],
      "id": "1a7ab373",
      "execution_count": null,
      "outputs": [
        {
          "output_type": "stream",
          "text": [
            "Let us convert the temperature in Celsius to Fahreinheit today!\n"
          ],
          "name": "stdout"
        }
      ]
    },
    {
      "cell_type": "code",
      "metadata": {
        "id": "66cfe0f1",
        "outputId": "cee97ee6-b3c1-490a-939c-186f478e0097"
      },
      "source": [
        "Cel = float(input(\"What is the temperature at your place today?(In Celsius please!)\"))\n",
        "Fah = (Cel*9/5)+32\n",
        "print(\"So, it is {} degree Fahrenheit in the United States!\".format(Fah))"
      ],
      "id": "66cfe0f1",
      "execution_count": null,
      "outputs": [
        {
          "output_type": "stream",
          "text": [
            "What is the temperature at your place today?(In Celsius please!)32.7\n",
            "So, it is 90.86 degree Fahrenheit in the United States!\n"
          ],
          "name": "stdout"
        }
      ]
    }
  ]
}