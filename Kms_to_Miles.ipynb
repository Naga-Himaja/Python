{
  "nbformat": 4,
  "nbformat_minor": 5,
  "metadata": {
    "kernelspec": {
      "display_name": "Python 3",
      "language": "python",
      "name": "python3"
    },
    "language_info": {
      "codemirror_mode": {
        "name": "ipython",
        "version": 3
      },
      "file_extension": ".py",
      "mimetype": "text/x-python",
      "name": "python",
      "nbconvert_exporter": "python",
      "pygments_lexer": "ipython3",
      "version": "3.8.10"
    },
    "colab": {
      "name": "Kms to Miles.ipynb",
      "provenance": [],
      "include_colab_link": true
    }
  },
  "cells": [
    {
      "cell_type": "markdown",
      "metadata": {
        "id": "view-in-github",
        "colab_type": "text"
      },
      "source": [
        "<a href=\"https://colab.research.google.com/github/Naga-Himaja/Python/blob/Minor-coding-problems/Kms_to_Miles.ipynb\" target=\"_parent\"><img src=\"https://colab.research.google.com/assets/colab-badge.svg\" alt=\"Open In Colab\"/></a>"
      ]
    },
    {
      "cell_type": "markdown",
      "metadata": {
        "id": "423ed3dd"
      },
      "source": [
        "# Kilometers to Miles"
      ],
      "id": "423ed3dd"
    },
    {
      "cell_type": "code",
      "metadata": {
        "id": "032fadd9",
        "outputId": "e13cf385-469b-4f33-dccf-6d0dc21f4040"
      },
      "source": [
        "print(\"Let us convert a given number of kilometers to miles\")\n",
        "kms = int(input(\"Enter the distance in kilometers\"))\n",
        "miles = 0.621371*kms\n",
        "print(\"{0} kms is equal to {1} miles\".format(kms,miles))"
      ],
      "id": "032fadd9",
      "execution_count": null,
      "outputs": [
        {
          "output_type": "stream",
          "text": [
            "Let us convert a given number of kilometers to miles\n",
            "Enter the number of kilometers1\n",
            "1 kms is equal to 0.621371 miles\n"
          ],
          "name": "stdout"
        }
      ]
    }
  ]
}