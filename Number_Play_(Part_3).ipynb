{
  "nbformat": 4,
  "nbformat_minor": 5,
  "metadata": {
    "kernelspec": {
      "display_name": "Python 3",
      "language": "python",
      "name": "python3"
    },
    "language_info": {
      "codemirror_mode": {
        "name": "ipython",
        "version": 3
      },
      "file_extension": ".py",
      "mimetype": "text/x-python",
      "name": "python",
      "nbconvert_exporter": "python",
      "pygments_lexer": "ipython3",
      "version": "3.8.10"
    },
    "colab": {
      "name": "Number Play (Part 3).ipynb",
      "provenance": [],
      "include_colab_link": true
    }
  },
  "cells": [
    {
      "cell_type": "markdown",
      "metadata": {
        "id": "view-in-github",
        "colab_type": "text"
      },
      "source": [
        "<a href=\"https://colab.research.google.com/github/Naga-Himaja/Python/blob/Minor-coding-problems/Number_Play_(Part_3).ipynb\" target=\"_parent\"><img src=\"https://colab.research.google.com/assets/colab-badge.svg\" alt=\"Open In Colab\"/></a>"
      ]
    },
    {
      "cell_type": "markdown",
      "metadata": {
        "id": "570a5a07"
      },
      "source": [
        "# The Fibonacci sequence"
      ],
      "id": "570a5a07"
    },
    {
      "cell_type": "code",
      "metadata": {
        "id": "ac86f976",
        "outputId": "5b90d968-fc07-413d-fa7e-8e74e40348a7"
      },
      "source": [
        "print(\"Let us print the fibonacci sequence today!\\n\")\n",
        "n = int(input(\"Enter the number of elemenets you want in the sequence : \"))\n",
        "x=0\n",
        "y=1\n",
        "print(\"\\nThe fibonacci sequence is as follows : \\n\")\n",
        "for i in range(0,n):\n",
        "    print(x,end=\" \")\n",
        "    temp=x+y\n",
        "    x=y\n",
        "    y=temp"
      ],
      "id": "ac86f976",
      "execution_count": null,
      "outputs": [
        {
          "output_type": "stream",
          "text": [
            "Let us print the fibonacci sequence today!\n",
            "\n",
            "Enter the number of elemenets you want in the sequence : 20\n",
            "\n",
            "The fibonacci sequence is as follows : \n",
            "\n",
            "0 1 1 2 3 5 8 13 21 34 55 89 144 233 377 610 987 1597 2584 4181 "
          ],
          "name": "stdout"
        }
      ]
    },
    {
      "cell_type": "markdown",
      "metadata": {
        "id": "938fa4d7"
      },
      "source": [
        "# Armstrong Numbers (3 digit)"
      ],
      "id": "938fa4d7"
    },
    {
      "cell_type": "code",
      "metadata": {
        "id": "3e25448b",
        "outputId": "70f2af5f-5f79-4f88-c097-b38aaf43ce09"
      },
      "source": [
        "print(\"Tell us a number and we will check if its an Armstrong Number\\n\")\n",
        "n = int(input(\"Enter a three digit number to check : \"))\n",
        "num=n\n",
        "sum=0\n",
        "while(n!=0):\n",
        "    sum=sum+(n%10)**3\n",
        "    n=n//10\n",
        "if(sum==num):\n",
        "    print(\"\\nThe number {} is an armstrong number\".format(num))\n",
        "else:\n",
        "    print(\"\\nThe number {} is not an armstrong number\".format(num))"
      ],
      "id": "3e25448b",
      "execution_count": null,
      "outputs": [
        {
          "output_type": "stream",
          "text": [
            "Tell us a number and we will check if its an Armstrong Number\n",
            "\n",
            "Enter a three digit number to check : 371\n",
            "\n",
            "The number 371 is an armstrong number\n"
          ],
          "name": "stdout"
        }
      ]
    }
  ]
}