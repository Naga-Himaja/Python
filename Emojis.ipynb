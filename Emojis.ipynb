{
  "nbformat": 4,
  "nbformat_minor": 5,
  "metadata": {
    "kernelspec": {
      "display_name": "Python 3",
      "language": "python",
      "name": "python3"
    },
    "language_info": {
      "codemirror_mode": {
        "name": "ipython",
        "version": 3
      },
      "file_extension": ".py",
      "mimetype": "text/x-python",
      "name": "python",
      "nbconvert_exporter": "python",
      "pygments_lexer": "ipython3",
      "version": "3.8.10"
    },
    "colab": {
      "name": "Emojis.ipynb",
      "provenance": [],
      "include_colab_link": true
    }
  },
  "cells": [
    {
      "cell_type": "markdown",
      "metadata": {
        "id": "view-in-github",
        "colab_type": "text"
      },
      "source": [
        "<a href=\"https://colab.research.google.com/github/Naga-Himaja/Python/blob/Minor-coding-problems/Emojis.ipynb\" target=\"_parent\"><img src=\"https://colab.research.google.com/assets/colab-badge.svg\" alt=\"Open In Colab\"/></a>"
      ]
    },
    {
      "cell_type": "markdown",
      "metadata": {
        "id": "f49fbf67"
      },
      "source": [
        "# Emojis"
      ],
      "id": "f49fbf67"
    },
    {
      "cell_type": "markdown",
      "metadata": {
        "id": "b818be1c"
      },
      "source": [
        "Face hand"
      ],
      "id": "b818be1c"
    },
    {
      "cell_type": "code",
      "metadata": {
        "id": "46dffe4f",
        "outputId": "86852928-bcdf-499e-c2b0-2b11fa6da845"
      },
      "source": [
        "print(\"\\U0001F917\")"
      ],
      "id": "46dffe4f",
      "execution_count": null,
      "outputs": [
        {
          "name": "stdout",
          "output_type": "stream",
          "text": [
            "🤗\n"
          ]
        }
      ]
    },
    {
      "cell_type": "code",
      "metadata": {
        "id": "f04ac854",
        "outputId": "429c6c85-5fd2-4834-a52f-6d90cc6efae2"
      },
      "source": [
        "print(\"\\U0001F92D\")"
      ],
      "id": "f04ac854",
      "execution_count": null,
      "outputs": [
        {
          "name": "stdout",
          "output_type": "stream",
          "text": [
            "🤭\n"
          ]
        }
      ]
    },
    {
      "cell_type": "code",
      "metadata": {
        "id": "0418f43f",
        "outputId": "1299fb32-0326-44d2-8317-a24f6f60cbfd"
      },
      "source": [
        "print(\"\\U0001F92B\")"
      ],
      "id": "0418f43f",
      "execution_count": null,
      "outputs": [
        {
          "name": "stdout",
          "output_type": "stream",
          "text": [
            "🤫\n"
          ]
        }
      ]
    },
    {
      "cell_type": "code",
      "metadata": {
        "id": "08b2cdea",
        "outputId": "1d8d75f7-3e08-40c0-de41-6a62d5ec78e4"
      },
      "source": [
        "print(\"\\U0001F914\")"
      ],
      "id": "08b2cdea",
      "execution_count": null,
      "outputs": [
        {
          "name": "stdout",
          "output_type": "stream",
          "text": [
            "🤔\n"
          ]
        }
      ]
    },
    {
      "cell_type": "markdown",
      "metadata": {
        "id": "2d1467ef"
      },
      "source": [
        "Neutral Face"
      ],
      "id": "2d1467ef"
    },
    {
      "cell_type": "code",
      "metadata": {
        "id": "290e97f6",
        "outputId": "01b150f2-ee08-4eee-80a8-0981e97f4e9b"
      },
      "source": [
        "print(\"\\U0001F910\")"
      ],
      "id": "290e97f6",
      "execution_count": null,
      "outputs": [
        {
          "name": "stdout",
          "output_type": "stream",
          "text": [
            "🤐\n"
          ]
        }
      ]
    },
    {
      "cell_type": "code",
      "metadata": {
        "id": "8a40a5fa",
        "outputId": "ee6a7d1e-dea7-43c8-b232-90a50402caed"
      },
      "source": [
        "print(\"\\U0001F928\")"
      ],
      "id": "8a40a5fa",
      "execution_count": null,
      "outputs": [
        {
          "name": "stdout",
          "output_type": "stream",
          "text": [
            "🤨\n"
          ]
        }
      ]
    },
    {
      "cell_type": "code",
      "metadata": {
        "id": "37fbd9fe",
        "outputId": "6b31c8f6-a5b7-41e3-9cda-8a84ae25076f"
      },
      "source": [
        "print(\"\\U0001F610\")"
      ],
      "id": "37fbd9fe",
      "execution_count": null,
      "outputs": [
        {
          "name": "stdout",
          "output_type": "stream",
          "text": [
            "😐\n"
          ]
        }
      ]
    },
    {
      "cell_type": "code",
      "metadata": {
        "id": "aa508265",
        "outputId": "e7f8ecca-4569-4a01-ff5f-c433251a6a54"
      },
      "source": [
        "print(\"\\U0001F611\")"
      ],
      "id": "aa508265",
      "execution_count": null,
      "outputs": [
        {
          "name": "stdout",
          "output_type": "stream",
          "text": [
            "😑\n"
          ]
        }
      ]
    },
    {
      "cell_type": "code",
      "metadata": {
        "id": "fbaf08c6",
        "outputId": "af7d4128-9011-4ba3-c217-a2434c3dde91"
      },
      "source": [
        "print(\"\\U0001F636\")"
      ],
      "id": "fbaf08c6",
      "execution_count": null,
      "outputs": [
        {
          "name": "stdout",
          "output_type": "stream",
          "text": [
            "😶\n"
          ]
        }
      ]
    },
    {
      "cell_type": "markdown",
      "metadata": {
        "id": "e085acf8"
      },
      "source": [
        "Sleepy face"
      ],
      "id": "e085acf8"
    },
    {
      "cell_type": "code",
      "metadata": {
        "id": "c2d4319b",
        "outputId": "6b69a69d-431a-4880-8cbe-daa07b3318ca"
      },
      "source": [
        "print(\"\\U0001F60C\")"
      ],
      "id": "c2d4319b",
      "execution_count": null,
      "outputs": [
        {
          "name": "stdout",
          "output_type": "stream",
          "text": [
            "😌\n"
          ]
        }
      ]
    },
    {
      "cell_type": "code",
      "metadata": {
        "id": "a61b9197",
        "outputId": "34d62b3f-3f1f-499c-fa96-93a88048b184"
      },
      "source": [
        "print(\"\\U0001F614\")"
      ],
      "id": "a61b9197",
      "execution_count": null,
      "outputs": [
        {
          "name": "stdout",
          "output_type": "stream",
          "text": [
            "😔\n"
          ]
        }
      ]
    },
    {
      "cell_type": "code",
      "metadata": {
        "id": "6386e649",
        "outputId": "fe75f968-517e-4165-c880-3616806a796e"
      },
      "source": [
        "print(\"\\U0001F62A\")"
      ],
      "id": "6386e649",
      "execution_count": null,
      "outputs": [
        {
          "name": "stdout",
          "output_type": "stream",
          "text": [
            "😪\n"
          ]
        }
      ]
    },
    {
      "cell_type": "code",
      "metadata": {
        "id": "bb12e6ae",
        "outputId": "e618a5cd-1361-4dde-de5f-59922f8cda60"
      },
      "source": [
        "print(\"\\U0001F924\")"
      ],
      "id": "bb12e6ae",
      "execution_count": null,
      "outputs": [
        {
          "name": "stdout",
          "output_type": "stream",
          "text": [
            "🤤\n"
          ]
        }
      ]
    },
    {
      "cell_type": "code",
      "metadata": {
        "id": "f4713a4c",
        "outputId": "332dfba6-7f19-4620-dda3-2ae44560beb9"
      },
      "source": [
        "print(\"\\U0001F634\")"
      ],
      "id": "f4713a4c",
      "execution_count": null,
      "outputs": [
        {
          "name": "stdout",
          "output_type": "stream",
          "text": [
            "😴\n"
          ]
        }
      ]
    },
    {
      "cell_type": "markdown",
      "metadata": {
        "id": "356135a1"
      },
      "source": [
        "Monkey face"
      ],
      "id": "356135a1"
    },
    {
      "cell_type": "code",
      "metadata": {
        "id": "71858a82",
        "outputId": "73c35178-a141-4417-8472-78083198e3b4"
      },
      "source": [
        "print(\"\\U0001F648\")"
      ],
      "id": "71858a82",
      "execution_count": null,
      "outputs": [
        {
          "name": "stdout",
          "output_type": "stream",
          "text": [
            "🙈\n"
          ]
        }
      ]
    },
    {
      "cell_type": "code",
      "metadata": {
        "id": "70dc25d9",
        "outputId": "e6b10798-04d7-4643-804b-b5815005ca40"
      },
      "source": [
        "print(\"\\U0001F649\")"
      ],
      "id": "70dc25d9",
      "execution_count": null,
      "outputs": [
        {
          "name": "stdout",
          "output_type": "stream",
          "text": [
            "🙉\n"
          ]
        }
      ]
    },
    {
      "cell_type": "code",
      "metadata": {
        "id": "576c011c",
        "outputId": "f5f46185-8e7e-4641-b443-17e2ab206b0b"
      },
      "source": [
        "print(\"\\U0001F64A\")"
      ],
      "id": "576c011c",
      "execution_count": null,
      "outputs": [
        {
          "name": "stdout",
          "output_type": "stream",
          "text": [
            "🙊\n"
          ]
        }
      ]
    },
    {
      "cell_type": "markdown",
      "metadata": {
        "id": "7736b7d9"
      },
      "source": [
        "Face reaction"
      ],
      "id": "7736b7d9"
    },
    {
      "cell_type": "code",
      "metadata": {
        "id": "ea0ee1ba",
        "outputId": "76bac30d-fcf0-4f68-bc48-ee4d163f158f"
      },
      "source": [
        "print(\"\\U0001F600\")"
      ],
      "id": "ea0ee1ba",
      "execution_count": null,
      "outputs": [
        {
          "name": "stdout",
          "output_type": "stream",
          "text": [
            "😀\n"
          ]
        }
      ]
    },
    {
      "cell_type": "code",
      "metadata": {
        "id": "3de84438",
        "outputId": "830d8c3f-49e9-48d8-aa7a-39d8cee98231"
      },
      "source": [
        "print(\"\\U0001F603\")"
      ],
      "id": "3de84438",
      "execution_count": null,
      "outputs": [
        {
          "name": "stdout",
          "output_type": "stream",
          "text": [
            "😃\n"
          ]
        }
      ]
    },
    {
      "cell_type": "code",
      "metadata": {
        "id": "4989a983",
        "outputId": "aafb4ede-3060-4dc0-94e2-79157f107b9f"
      },
      "source": [
        "print(\"\\U0001F604\")"
      ],
      "id": "4989a983",
      "execution_count": null,
      "outputs": [
        {
          "name": "stdout",
          "output_type": "stream",
          "text": [
            "😄\n"
          ]
        }
      ]
    },
    {
      "cell_type": "code",
      "metadata": {
        "id": "561d1df1",
        "outputId": "6adc4d51-43e6-414b-9522-52caf371321a"
      },
      "source": [
        "print(\"\\U0001F601\")"
      ],
      "id": "561d1df1",
      "execution_count": null,
      "outputs": [
        {
          "name": "stdout",
          "output_type": "stream",
          "text": [
            "😁\n"
          ]
        }
      ]
    },
    {
      "cell_type": "code",
      "metadata": {
        "id": "b489457c",
        "outputId": "da8e3bc9-9062-4299-bb40-7d9d42b23de9"
      },
      "source": [
        "print(\"\\U0001F606\")"
      ],
      "id": "b489457c",
      "execution_count": null,
      "outputs": [
        {
          "name": "stdout",
          "output_type": "stream",
          "text": [
            "😆\n"
          ]
        }
      ]
    },
    {
      "cell_type": "code",
      "metadata": {
        "id": "6dc4c9fe",
        "outputId": "a5673ea9-dd45-4b15-f1d6-6e0164279a09"
      },
      "source": [
        "print(\"\\U0001F605\")"
      ],
      "id": "6dc4c9fe",
      "execution_count": null,
      "outputs": [
        {
          "name": "stdout",
          "output_type": "stream",
          "text": [
            "😅\n"
          ]
        }
      ]
    },
    {
      "cell_type": "code",
      "metadata": {
        "id": "eac13683",
        "outputId": "44f2482f-7e41-4769-b752-0a985a9f7b70"
      },
      "source": [
        "print(\"\\U0001F923\")"
      ],
      "id": "eac13683",
      "execution_count": null,
      "outputs": [
        {
          "name": "stdout",
          "output_type": "stream",
          "text": [
            "🤣\n"
          ]
        }
      ]
    },
    {
      "cell_type": "markdown",
      "metadata": {
        "id": "b01b1e1a"
      },
      "source": [
        "Sunglass face"
      ],
      "id": "b01b1e1a"
    },
    {
      "cell_type": "code",
      "metadata": {
        "id": "12835810",
        "outputId": "69b8a3bd-c125-4b12-a463-26e77ff76c29"
      },
      "source": [
        "print(\"\\U0001F60E\")"
      ],
      "id": "12835810",
      "execution_count": null,
      "outputs": [
        {
          "name": "stdout",
          "output_type": "stream",
          "text": [
            "😎\n"
          ]
        }
      ]
    },
    {
      "cell_type": "code",
      "metadata": {
        "id": "4185c9c4",
        "outputId": "466c91e2-cf0a-415c-df36-f94855d3952d"
      },
      "source": [
        "print(\"\\U0001F913\")"
      ],
      "id": "4185c9c4",
      "execution_count": null,
      "outputs": [
        {
          "name": "stdout",
          "output_type": "stream",
          "text": [
            "🤓\n"
          ]
        }
      ]
    },
    {
      "cell_type": "code",
      "metadata": {
        "id": "31c96340",
        "outputId": "c901a66e-3c0f-46f2-b62a-d1430f55209a"
      },
      "source": [
        "print(\"\\U0001F9D0\")"
      ],
      "id": "31c96340",
      "execution_count": null,
      "outputs": [
        {
          "name": "stdout",
          "output_type": "stream",
          "text": [
            "🧐\n"
          ]
        }
      ]
    }
  ]
}