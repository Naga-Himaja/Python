{
  "nbformat": 4,
  "nbformat_minor": 5,
  "metadata": {
    "kernelspec": {
      "display_name": "Python 3",
      "language": "python",
      "name": "python3"
    },
    "language_info": {
      "codemirror_mode": {
        "name": "ipython",
        "version": 3
      },
      "file_extension": ".py",
      "mimetype": "text/x-python",
      "name": "python",
      "nbconvert_exporter": "python",
      "pygments_lexer": "ipython3",
      "version": "3.8.10"
    },
    "colab": {
      "name": "Math_Problems (Part 2).ipynb",
      "provenance": [],
      "collapsed_sections": [],
      "include_colab_link": true
    }
  },
  "cells": [
    {
      "cell_type": "markdown",
      "metadata": {
        "id": "view-in-github",
        "colab_type": "text"
      },
      "source": [
        "<a href=\"https://colab.research.google.com/github/Naga-Himaja/Python/blob/Minor-coding-problems/Math_Problems_(Part_2).ipynb\" target=\"_parent\"><img src=\"https://colab.research.google.com/assets/colab-badge.svg\" alt=\"Open In Colab\"/></a>"
      ]
    },
    {
      "cell_type": "markdown",
      "metadata": {
        "id": "b659298f"
      },
      "source": [
        "# Numbers Divisible by Another Number"
      ],
      "id": "b659298f"
    },
    {
      "cell_type": "code",
      "metadata": {
        "id": "b799926f",
        "outputId": "0ddf8337-205e-4dbf-d612-39080f53c2f1"
      },
      "source": [
        "print(\"Let us find the numbers divisible by another number\\n\")\n",
        "\n",
        "my_list = list(map(int,input(\"Enter the list of numbers to be checked (seperated by spaces) : \").split()))\n",
        "\n",
        "num =  int(input(\"\\nEnter the number which is to be used as divisor : \"))\n",
        "\n",
        "result = list(filter(lambda x: (x % num == 0), my_list))\n",
        "\n",
        "print(\"\\nThe number which are divisible by {} in the list {} are : \".format(num,my_list),end=\" \")\n",
        "\n",
        "for i in result:\n",
        "    print(i,end=\" \")"
      ],
      "id": "b799926f",
      "execution_count": null,
      "outputs": [
        {
          "output_type": "stream",
          "text": [
            "Let us find the numbers divisible by another number\n",
            "\n",
            "Enter the list of numbers to be checked (seperated by spaces) : 13 26 39 52 65 25 14 3 5 48\n",
            "\n",
            "Enter the number which is to be used as divisor : 13\n",
            "\n",
            "The number which are divisible by 13 in the list [13, 26, 39, 52, 65, 25, 14, 3, 5, 48] are :  13 26 39 52 65 "
          ],
          "name": "stdout"
        }
      ]
    },
    {
      "cell_type": "markdown",
      "metadata": {
        "id": "3acdaff1"
      },
      "source": [
        "# Convert Decimal to Binary"
      ],
      "id": "3acdaff1"
    },
    {
      "cell_type": "code",
      "metadata": {
        "id": "9bc0fb23",
        "outputId": "8961d52a-4d8e-4ae6-c6c9-17e1c724d441"
      },
      "source": [
        "def DecimalToBinary(num):\n",
        "    if num >= 1:\n",
        "        DecimalToBinary(num // 2)\n",
        "    print(num % 2, end = '')\n",
        "\n",
        "print(\"Wanna know how computer understands a number? Let us find out!\")\n",
        "\n",
        "decimal = int(input(\"Enter a decimal number : \"))\n",
        "print(\"The binary value of \",decimal,\"is \",end=\" \")\n",
        "DecimalToBinary(decimal)\n",
        " "
      ],
      "id": "9bc0fb23",
      "execution_count": null,
      "outputs": [
        {
          "output_type": "stream",
          "text": [
            "Wanna know how computer understands a number? Let us find out!\n",
            "Enter a decimal number : 7\n",
            "The binary value of  7 is  0111"
          ],
          "name": "stdout"
        }
      ]
    },
    {
      "cell_type": "code",
      "metadata": {
        "id": "3307b60d"
      },
      "source": [
        ""
      ],
      "id": "3307b60d",
      "execution_count": null,
      "outputs": []
    }
  ]
}