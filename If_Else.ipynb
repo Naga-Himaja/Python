{
  "nbformat": 4,
  "nbformat_minor": 5,
  "metadata": {
    "kernelspec": {
      "display_name": "Python 3",
      "language": "python",
      "name": "python3"
    },
    "language_info": {
      "codemirror_mode": {
        "name": "ipython",
        "version": 3
      },
      "file_extension": ".py",
      "mimetype": "text/x-python",
      "name": "python",
      "nbconvert_exporter": "python",
      "pygments_lexer": "ipython3",
      "version": "3.8.10"
    },
    "colab": {
      "name": "If-Else (Practice).ipynb",
      "provenance": [],
      "include_colab_link": true
    }
  },
  "cells": [
    {
      "cell_type": "markdown",
      "metadata": {
        "id": "view-in-github",
        "colab_type": "text"
      },
      "source": [
        "<a href=\"https://colab.research.google.com/github/Naga-Himaja/Naga-Himaja/blob/main/If_Else.ipynb\" target=\"_parent\"><img src=\"https://colab.research.google.com/assets/colab-badge.svg\" alt=\"Open In Colab\"/></a>"
      ]
    },
    {
      "cell_type": "code",
      "metadata": {
        "id": "03b44f7b",
        "outputId": "fec0e710-eeb3-4968-df1a-a0d6cde0da64"
      },
      "source": [
        "a=0\n",
        "b=88\n",
        "if b>a:\n",
        "    print(\"b is greater than a\")\n",
        "    if (a!=0):\n",
        "        print(a)\n",
        "    print(76)"
      ],
      "id": "03b44f7b",
      "execution_count": null,
      "outputs": [
        {
          "output_type": "stream",
          "text": [
            "b is greater than a\n",
            "76\n"
          ],
          "name": "stdout"
        }
      ]
    },
    {
      "cell_type": "code",
      "metadata": {
        "id": "1e1d37ce",
        "outputId": "26fce4b8-4405-4509-e8bb-1b438e10acf4"
      },
      "source": [
        "a=55\n",
        "b=97\n",
        "c=999\n",
        "if b>a:\n",
        "    print(\"b is greater than a\")\n",
        "    print(a)\n",
        "a\n",
        "b\n",
        "c"
      ],
      "id": "1e1d37ce",
      "execution_count": null,
      "outputs": [
        {
          "output_type": "stream",
          "text": [
            "b is greater than a\n",
            "55\n"
          ],
          "name": "stdout"
        },
        {
          "output_type": "execute_result",
          "data": {
            "text/plain": [
              "999"
            ]
          },
          "metadata": {
            "tags": []
          },
          "execution_count": 9
        }
      ]
    },
    {
      "cell_type": "code",
      "metadata": {
        "id": "f5b6196e",
        "outputId": "23d158ac-8c93-4ed5-ea70-0012cc99946b"
      },
      "source": [
        "if(a==b):\n",
        "    print(\"a is same as b\")\n",
        "elif(a>b):\n",
        "    print(\"a is greater than b\")\n",
        "else:\n",
        "    print(\"a is smaller than b\")"
      ],
      "id": "f5b6196e",
      "execution_count": null,
      "outputs": [
        {
          "output_type": "stream",
          "text": [
            "a is smaller than b\n"
          ],
          "name": "stdout"
        }
      ]
    },
    {
      "cell_type": "code",
      "metadata": {
        "id": "2f992413"
      },
      "source": [
        ""
      ],
      "id": "2f992413",
      "execution_count": null,
      "outputs": []
    }
  ]
}