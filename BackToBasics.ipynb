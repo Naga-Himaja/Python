{
  "nbformat": 4,
  "nbformat_minor": 5,
  "metadata": {
    "kernelspec": {
      "display_name": "Python 3",
      "language": "python",
      "name": "python3"
    },
    "language_info": {
      "codemirror_mode": {
        "name": "ipython",
        "version": 3
      },
      "file_extension": ".py",
      "mimetype": "text/x-python",
      "name": "python",
      "nbconvert_exporter": "python",
      "pygments_lexer": "ipython3",
      "version": "3.8.10"
    },
    "colab": {
      "name": "BackToBasics.ipynb",
      "provenance": [],
      "include_colab_link": true
    }
  },
  "cells": [
    {
      "cell_type": "markdown",
      "metadata": {
        "id": "view-in-github",
        "colab_type": "text"
      },
      "source": [
        "<a href=\"https://colab.research.google.com/github/Naga-Himaja/Python/blob/Practice/BackToBasics.ipynb\" target=\"_parent\"><img src=\"https://colab.research.google.com/assets/colab-badge.svg\" alt=\"Open In Colab\"/></a>"
      ]
    },
    {
      "cell_type": "code",
      "metadata": {
        "id": "a14bc124"
      },
      "source": [
        "t = (\"HI\", 6, (3,4))"
      ],
      "id": "a14bc124",
      "execution_count": null,
      "outputs": []
    },
    {
      "cell_type": "code",
      "metadata": {
        "id": "0d4d54ec",
        "outputId": "ac7d45b3-7c7a-4dc9-c59c-b0f095c9a8fc"
      },
      "source": [
        "print(t[2][0])"
      ],
      "id": "0d4d54ec",
      "execution_count": null,
      "outputs": [
        {
          "output_type": "stream",
          "text": [
            "3\n"
          ],
          "name": "stdout"
        }
      ]
    },
    {
      "cell_type": "code",
      "metadata": {
        "id": "dc7fd6ea",
        "outputId": "d94ef23c-c363-43af-dadf-980f8ce2173e"
      },
      "source": [
        "r=(1,4,5)+(5,7,6)\n",
        "print(r)"
      ],
      "id": "dc7fd6ea",
      "execution_count": null,
      "outputs": [
        {
          "output_type": "stream",
          "text": [
            "(1, 4, 5, 5, 7, 6)\n"
          ],
          "name": "stdout"
        }
      ]
    },
    {
      "cell_type": "code",
      "metadata": {
        "id": "f5899bfc",
        "outputId": "28719c24-1ec8-4bf0-d1da-d431dccb2111"
      },
      "source": [
        "s= r*3\n",
        "print(s)"
      ],
      "id": "f5899bfc",
      "execution_count": null,
      "outputs": [
        {
          "output_type": "stream",
          "text": [
            "(1, 4, 5, 5, 7, 6, 1, 4, 5, 5, 7, 6, 1, 4, 5, 5, 7, 6)\n"
          ],
          "name": "stdout"
        }
      ]
    },
    {
      "cell_type": "code",
      "metadata": {
        "id": "99667469",
        "outputId": "2241863a-0caf-4a19-a5dc-c348ecfd8cf9"
      },
      "source": [
        "g=(1,5,3)*(5,6,4)\n",
        "#This gives an error as multipying the tuple with another tuple is not possible"
      ],
      "id": "99667469",
      "execution_count": null,
      "outputs": [
        {
          "output_type": "error",
          "ename": "TypeError",
          "evalue": "can't multiply sequence by non-int of type 'tuple'",
          "traceback": [
            "\u001b[1;31m---------------------------------------------------------------------------\u001b[0m",
            "\u001b[1;31mTypeError\u001b[0m                                 Traceback (most recent call last)",
            "\u001b[1;32m<ipython-input-34-9ec0afbb5c75>\u001b[0m in \u001b[0;36m<module>\u001b[1;34m\u001b[0m\n\u001b[1;32m----> 1\u001b[1;33m \u001b[0mg\u001b[0m\u001b[1;33m=\u001b[0m\u001b[1;33m(\u001b[0m\u001b[1;36m1\u001b[0m\u001b[1;33m,\u001b[0m\u001b[1;36m5\u001b[0m\u001b[1;33m,\u001b[0m\u001b[1;36m3\u001b[0m\u001b[1;33m)\u001b[0m\u001b[1;33m*\u001b[0m\u001b[1;33m(\u001b[0m\u001b[1;36m5\u001b[0m\u001b[1;33m,\u001b[0m\u001b[1;36m6\u001b[0m\u001b[1;33m,\u001b[0m\u001b[1;36m4\u001b[0m\u001b[1;33m)\u001b[0m\u001b[1;33m\u001b[0m\u001b[1;33m\u001b[0m\u001b[0m\n\u001b[0m\u001b[0;32m      2\u001b[0m \u001b[1;31m#This gives an error as multipying the tuple with another tuple is not possible\u001b[0m\u001b[1;33m\u001b[0m\u001b[1;33m\u001b[0m\u001b[1;33m\u001b[0m\u001b[0m\n",
            "\u001b[1;31mTypeError\u001b[0m: can't multiply sequence by non-int of type 'tuple'"
          ]
        }
      ]
    },
    {
      "cell_type": "code",
      "metadata": {
        "id": "f3f623ce",
        "outputId": "022fcc6a-902a-4032-97ea-e991b869f0df"
      },
      "source": [
        "L = [5, 2, \"Hey\", {1:t, 2:r, 3:s}]\n",
        "print(L)"
      ],
      "id": "f3f623ce",
      "execution_count": null,
      "outputs": [
        {
          "output_type": "stream",
          "text": [
            "[5, 2, 'Hey', {1: ('HI', 6, (3, 4)), 2: (1, 4, 5, 5, 7, 6), 3: (1, 4, 5, 5, 7, 6, 1, 4, 5, 5, 7, 6, 1, 4, 5, 5, 7, 6)}]\n"
          ],
          "name": "stdout"
        }
      ]
    },
    {
      "cell_type": "code",
      "metadata": {
        "id": "e4f9acef",
        "outputId": "8dcc6b63-e399-4b51-c722-0b135b4da7d6"
      },
      "source": [
        "print(L[3][1][0])"
      ],
      "id": "e4f9acef",
      "execution_count": null,
      "outputs": [
        {
          "output_type": "stream",
          "text": [
            "HI\n"
          ],
          "name": "stdout"
        }
      ]
    },
    {
      "cell_type": "code",
      "metadata": {
        "id": "e9b335a8",
        "outputId": "57087bff-4b45-4b1a-8208-c3e2f2494d30"
      },
      "source": [
        "print(L[1:5])"
      ],
      "id": "e9b335a8",
      "execution_count": null,
      "outputs": [
        {
          "output_type": "stream",
          "text": [
            "[2, 'Hey', {1: ('HI', 6, (3, 4)), 2: (1, 4, 5, 5, 7, 6), 3: (1, 4, 5, 5, 7, 6, 1, 4, 5, 5, 7, 6, 1, 4, 5, 5, 7, 6)}]\n"
          ],
          "name": "stdout"
        }
      ]
    },
    {
      "cell_type": "code",
      "metadata": {
        "id": "43d44632",
        "outputId": "89d5a006-1637-4147-996a-5eaa303ee22b"
      },
      "source": [
        "L[0:2]=[1,4]\n",
        "print(L)"
      ],
      "id": "43d44632",
      "execution_count": null,
      "outputs": [
        {
          "output_type": "stream",
          "text": [
            "[1, 4, 'Hey', {1: ('HI', 6, (3, 4)), 2: (1, 4, 5, 5, 7, 6), 3: (1, 4, 5, 5, 7, 6, 1, 4, 5, 5, 7, 6, 1, 4, 5, 5, 7, 6)}]\n"
          ],
          "name": "stdout"
        }
      ]
    },
    {
      "cell_type": "code",
      "metadata": {
        "id": "9995b1d2",
        "outputId": "787017a9-abce-4882-874e-5370ee78ae2e"
      },
      "source": [
        "print(L[3][2][5])"
      ],
      "id": "9995b1d2",
      "execution_count": null,
      "outputs": [
        {
          "output_type": "stream",
          "text": [
            "6\n"
          ],
          "name": "stdout"
        }
      ]
    },
    {
      "cell_type": "code",
      "metadata": {
        "id": "0ff43c38",
        "outputId": "9a01f1ce-ff35-4eb7-dfb0-9de4f28d0897"
      },
      "source": [
        "L.insert(0,3)\n",
        "print(L)"
      ],
      "id": "0ff43c38",
      "execution_count": null,
      "outputs": [
        {
          "output_type": "stream",
          "text": [
            "[3, 1, 4, 'Hey', {1: ('HI', 6, (3, 4)), 2: (1, 4, 5, 5, 7, 6), 3: (1, 4, 5, 5, 7, 6, 1, 4, 5, 5, 7, 6, 1, 4, 5, 5, 7, 6)}]\n"
          ],
          "name": "stdout"
        }
      ]
    },
    {
      "cell_type": "code",
      "metadata": {
        "id": "67653c34",
        "outputId": "cc1a93fd-41d8-4bb5-ffd7-96ead376bc55"
      },
      "source": [
        "del L[0]\n",
        "print(L)"
      ],
      "id": "67653c34",
      "execution_count": null,
      "outputs": [
        {
          "output_type": "stream",
          "text": [
            "[1, 4, 'Hey', {1: ('HI', 6, (3, 4)), 2: (1, 4, 5, 5, 7, 6), 3: (1, 4, 5, 5, 7, 6, 1, 4, 5, 5, 7, 6, 1, 4, 5, 5, 7, 6)}]\n"
          ],
          "name": "stdout"
        }
      ]
    },
    {
      "cell_type": "code",
      "metadata": {
        "id": "43f29ffb",
        "outputId": "f937ef22-7cf6-42a1-83df-8f259ca9247c"
      },
      "source": [
        "fruit = \"Banana\"\n",
        "fruit[0]='b'\n",
        "#Since string is immutable, the elements cannot be modified in a string"
      ],
      "id": "43f29ffb",
      "execution_count": null,
      "outputs": [
        {
          "output_type": "error",
          "ename": "TypeError",
          "evalue": "'str' object does not support item assignment",
          "traceback": [
            "\u001b[1;31m---------------------------------------------------------------------------\u001b[0m",
            "\u001b[1;31mTypeError\u001b[0m                                 Traceback (most recent call last)",
            "\u001b[1;32m<ipython-input-35-5c39a9c2e322>\u001b[0m in \u001b[0;36m<module>\u001b[1;34m\u001b[0m\n\u001b[0;32m      1\u001b[0m \u001b[0mfruit\u001b[0m \u001b[1;33m=\u001b[0m \u001b[1;34m\"Banana\"\u001b[0m\u001b[1;33m\u001b[0m\u001b[1;33m\u001b[0m\u001b[0m\n\u001b[1;32m----> 2\u001b[1;33m \u001b[0mfruit\u001b[0m\u001b[1;33m[\u001b[0m\u001b[1;36m0\u001b[0m\u001b[1;33m]\u001b[0m\u001b[1;33m=\u001b[0m\u001b[1;34m'b'\u001b[0m\u001b[1;33m\u001b[0m\u001b[1;33m\u001b[0m\u001b[0m\n\u001b[0m\u001b[0;32m      3\u001b[0m \u001b[1;31m#Since String is immutable, the elements cannot be modified in a string\u001b[0m\u001b[1;33m\u001b[0m\u001b[1;33m\u001b[0m\u001b[1;33m\u001b[0m\u001b[0m\n",
            "\u001b[1;31mTypeError\u001b[0m: 'str' object does not support item assignment"
          ]
        }
      ]
    },
    {
      "cell_type": "code",
      "metadata": {
        "id": "97640090",
        "outputId": "7bbcb184-c831-4ceb-d7c3-550ac68aa58e"
      },
      "source": [
        "print(type(fruit.lower()))"
      ],
      "id": "97640090",
      "execution_count": null,
      "outputs": [
        {
          "output_type": "stream",
          "text": [
            "<class 'str'>\n"
          ],
          "name": "stdout"
        }
      ]
    },
    {
      "cell_type": "code",
      "metadata": {
        "id": "b920e308",
        "outputId": "2748f320-e8b6-48a8-c1a6-e09ecc1c5047"
      },
      "source": [
        "x = fruit.lower()\n",
        "print(x)"
      ],
      "id": "b920e308",
      "execution_count": null,
      "outputs": [
        {
          "output_type": "stream",
          "text": [
            "banana\n"
          ],
          "name": "stdout"
        }
      ]
    },
    {
      "cell_type": "code",
      "metadata": {
        "id": "2a86a7b0",
        "outputId": "cd89b53c-5df5-4d40-ff07-db735cb6f77d"
      },
      "source": [
        "print(len(L))"
      ],
      "id": "2a86a7b0",
      "execution_count": null,
      "outputs": [
        {
          "output_type": "stream",
          "text": [
            "5\n"
          ],
          "name": "stdout"
        }
      ]
    },
    {
      "cell_type": "code",
      "metadata": {
        "id": "27b7d29d",
        "outputId": "b9821d1e-75c7-4f5b-bc16-186730ff2e50"
      },
      "source": [
        "print(range(3))"
      ],
      "id": "27b7d29d",
      "execution_count": null,
      "outputs": [
        {
          "output_type": "stream",
          "text": [
            "range(0, 3)\n"
          ],
          "name": "stdout"
        }
      ]
    },
    {
      "cell_type": "code",
      "metadata": {
        "id": "ecbd55e7",
        "outputId": "4bf99326-6740-4ec9-8ff9-8b018edf9b99"
      },
      "source": [
        "print(type(range))"
      ],
      "id": "ecbd55e7",
      "execution_count": null,
      "outputs": [
        {
          "output_type": "stream",
          "text": [
            "<class 'type'>\n"
          ],
          "name": "stdout"
        }
      ]
    },
    {
      "cell_type": "code",
      "metadata": {
        "id": "a1864f5c",
        "outputId": "85705dde-a0a7-43fd-cd6c-f6b1987012ba"
      },
      "source": [
        "print(type(int))"
      ],
      "id": "a1864f5c",
      "execution_count": null,
      "outputs": [
        {
          "output_type": "stream",
          "text": [
            "<class 'type'>\n"
          ],
          "name": "stdout"
        }
      ]
    },
    {
      "cell_type": "code",
      "metadata": {
        "id": "fa788b25",
        "outputId": "66263733-ddab-4969-effd-791538cfc45e"
      },
      "source": [
        "print(range(len(L)))"
      ],
      "id": "fa788b25",
      "execution_count": null,
      "outputs": [
        {
          "output_type": "stream",
          "text": [
            "range(0, 5)\n"
          ],
          "name": "stdout"
        }
      ]
    },
    {
      "cell_type": "code",
      "metadata": {
        "id": "9247afaa"
      },
      "source": [
        ""
      ],
      "id": "9247afaa",
      "execution_count": null,
      "outputs": []
    }
  ]
}