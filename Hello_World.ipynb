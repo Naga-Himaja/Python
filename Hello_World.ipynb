{
  "nbformat": 4,
  "nbformat_minor": 5,
  "metadata": {
    "kernelspec": {
      "display_name": "Python 3",
      "language": "python",
      "name": "python3"
    },
    "language_info": {
      "codemirror_mode": {
        "name": "ipython",
        "version": 3
      },
      "file_extension": ".py",
      "mimetype": "text/x-python",
      "name": "python",
      "nbconvert_exporter": "python",
      "pygments_lexer": "ipython3",
      "version": "3.8.8"
    },
    "colab": {
      "name": "Hello_World.ipynb",
      "provenance": [],
      "include_colab_link": true
    }
  },
  "cells": [
    {
      "cell_type": "markdown",
      "metadata": {
        "id": "view-in-github",
        "colab_type": "text"
      },
      "source": [
        "<a href=\"https://colab.research.google.com/github/Naga-Himaja/Naga-Himaja/blob/main/Hello_World.ipynb\" target=\"_parent\"><img src=\"https://colab.research.google.com/assets/colab-badge.svg\" alt=\"Open In Colab\"/></a>"
      ]
    },
    {
      "cell_type": "markdown",
      "metadata": {
        "id": "f66a8860"
      },
      "source": [
        "# Hello World!"
      ],
      "id": "f66a8860"
    },
    {
      "cell_type": "code",
      "metadata": {
        "id": "f4a86ced",
        "outputId": "24351d40-f338-4c79-c5e2-921ce468742d"
      },
      "source": [
        "print('Hello World!')"
      ],
      "id": "f4a86ced",
      "execution_count": null,
      "outputs": [
        {
          "output_type": "stream",
          "text": [
            "Hello World!\n"
          ],
          "name": "stdout"
        }
      ]
    },
    {
      "cell_type": "code",
      "metadata": {
        "id": "f76d1241"
      },
      "source": [
        ""
      ],
      "id": "f76d1241",
      "execution_count": null,
      "outputs": []
    }
  ]
}