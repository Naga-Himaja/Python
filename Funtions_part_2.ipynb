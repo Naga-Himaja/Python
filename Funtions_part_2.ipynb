{
  "nbformat": 4,
  "nbformat_minor": 5,
  "metadata": {
    "kernelspec": {
      "display_name": "Python 3",
      "language": "python",
      "name": "python3"
    },
    "language_info": {
      "codemirror_mode": {
        "name": "ipython",
        "version": 3
      },
      "file_extension": ".py",
      "mimetype": "text/x-python",
      "name": "python",
      "nbconvert_exporter": "python",
      "pygments_lexer": "ipython3",
      "version": "3.8.10"
    },
    "colab": {
      "name": "Funtions part 2.ipynb",
      "provenance": [],
      "include_colab_link": true
    }
  },
  "cells": [
    {
      "cell_type": "markdown",
      "metadata": {
        "id": "view-in-github",
        "colab_type": "text"
      },
      "source": [
        "<a href=\"https://colab.research.google.com/github/Naga-Himaja/Python/blob/Minor-coding-problems/Funtions_part_2.ipynb\" target=\"_parent\"><img src=\"https://colab.research.google.com/assets/colab-badge.svg\" alt=\"Open In Colab\"/></a>"
      ]
    },
    {
      "cell_type": "markdown",
      "metadata": {
        "id": "fb4eeec3"
      },
      "source": [
        "# Table of n"
      ],
      "id": "fb4eeec3"
    },
    {
      "cell_type": "code",
      "metadata": {
        "id": "1e0e301f",
        "outputId": "5e63a8ac-ca10-4b13-f807-c4f1c7a980d7"
      },
      "source": [
        "n = int(input(\"Enter a number : \"))\n",
        "for i in range (1,11):\n",
        "    print(i*n)"
      ],
      "id": "1e0e301f",
      "execution_count": null,
      "outputs": [
        {
          "name": "stdout",
          "output_type": "stream",
          "text": [
            "Enter a number : 5\n",
            "5\n",
            "10\n",
            "15\n",
            "20\n",
            "25\n",
            "30\n",
            "35\n",
            "40\n",
            "45\n",
            "50\n"
          ]
        }
      ]
    },
    {
      "cell_type": "markdown",
      "metadata": {
        "id": "a7c4b672"
      },
      "source": [
        "# Sum of n natural numbers"
      ],
      "id": "a7c4b672"
    },
    {
      "cell_type": "code",
      "metadata": {
        "id": "b7d0dc1c",
        "outputId": "715e0f34-89ef-4545-cac1-7a9468cd31d7"
      },
      "source": [
        "def sum_n(n):\n",
        "    return(n*(n+1)/2)\n",
        "num = int(input(\"Enter a number : \"))\n",
        "sum = sum_n(num)\n",
        "print(\"The sum of first {} natural numbers is {}\".format(n,sum))"
      ],
      "id": "b7d0dc1c",
      "execution_count": null,
      "outputs": [
        {
          "name": "stdout",
          "output_type": "stream",
          "text": [
            "Enter a number : 10\n",
            "The sum of first 5 natural numbers is 55.0\n"
          ]
        }
      ]
    },
    {
      "cell_type": "markdown",
      "metadata": {
        "id": "1d9a4f49"
      },
      "source": [
        "# Factorial of a number"
      ],
      "id": "1d9a4f49"
    },
    {
      "cell_type": "code",
      "metadata": {
        "id": "0c93804d",
        "outputId": "8005b9c5-3955-463e-b5dc-d5a2f97e6ab0"
      },
      "source": [
        "def factorial(n):\n",
        "    if (n == 1):\n",
        "        return n\n",
        "    else:\n",
        "        return(n*factorial(n-1))\n",
        "num = int(input(\"Enter a number : \"))\n",
        "fact = factorial(n)\n",
        "print(\"The factorial of {} is {}\".format(num,fact))"
      ],
      "id": "0c93804d",
      "execution_count": null,
      "outputs": [
        {
          "name": "stdout",
          "output_type": "stream",
          "text": [
            "Enter a number : 5\n",
            "The factorial of 5 is 120\n"
          ]
        }
      ]
    },
    {
      "cell_type": "code",
      "metadata": {
        "id": "25217648"
      },
      "source": [
        ""
      ],
      "id": "25217648",
      "execution_count": null,
      "outputs": []
    }
  ]
}