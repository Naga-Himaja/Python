{
  "nbformat": 4,
  "nbformat_minor": 0,
  "metadata": {
    "kernelspec": {
      "display_name": "Python 3",
      "language": "python",
      "name": "python3"
    },
    "language_info": {
      "codemirror_mode": {
        "name": "ipython",
        "version": 3
      },
      "file_extension": ".py",
      "mimetype": "text/x-python",
      "name": "python",
      "nbconvert_exporter": "python",
      "pygments_lexer": "ipython3",
      "version": "3.7.10"
    },
    "colab": {
      "name": "Print Formatting with Strings.ipynb",
      "provenance": [],
      "include_colab_link": true
    }
  },
  "cells": [
    {
      "cell_type": "markdown",
      "metadata": {
        "id": "view-in-github",
        "colab_type": "text"
      },
      "source": [
        "<a href=\"https://colab.research.google.com/github/Naga-Himaja/Naga-Himaja/blob/main/Print_Formatting_with_Strings.ipynb\" target=\"_parent\"><img src=\"https://colab.research.google.com/assets/colab-badge.svg\" alt=\"Open In Colab\"/></a>"
      ]
    },
    {
      "cell_type": "markdown",
      "metadata": {
        "id": "Z8IfG1ZKTBNk"
      },
      "source": [
        "## Formatting with placeholders\n",
        "You can use <code>%s</code> to inject strings into your print statements. The modulo `%` is referred to as a \"string formatting operator\"."
      ]
    },
    {
      "cell_type": "code",
      "metadata": {
        "id": "TNOwMZ9xTBNn",
        "outputId": "1ad552ee-9887-47c0-e7e2-7c8c1a4ff27d"
      },
      "source": [
        "print(\"I'm going to inject %s here.\" %'something')"
      ],
      "execution_count": null,
      "outputs": [
        {
          "output_type": "stream",
          "text": [
            "I'm going to inject something here.\n"
          ],
          "name": "stdout"
        }
      ]
    },
    {
      "cell_type": "markdown",
      "metadata": {
        "id": "Ys__I42oTBNp"
      },
      "source": [
        "You can pass multiple items by placing them inside a tuple after the `%` operator."
      ]
    },
    {
      "cell_type": "code",
      "metadata": {
        "id": "aG2OY3M2TBNp",
        "outputId": "c88a5939-f9bb-4d1a-b654-b0b6bfe5ded3"
      },
      "source": [
        "print(\"I'm going to inject %s text here, and %s text here.\" %('some','more'))"
      ],
      "execution_count": null,
      "outputs": [
        {
          "output_type": "stream",
          "text": [
            "I'm going to inject some text here, and more text here.\n"
          ],
          "name": "stdout"
        }
      ]
    },
    {
      "cell_type": "markdown",
      "metadata": {
        "id": "wkIhBfmxTBNq"
      },
      "source": [
        "You can also pass variable names:"
      ]
    },
    {
      "cell_type": "code",
      "metadata": {
        "id": "24JP1FKSTBNq",
        "outputId": "4e5a93c7-30d1-45a7-9990-cb436e650e0a"
      },
      "source": [
        "x, y = 'some', 'more'\n",
        "print(\"I'm going to inject %s text here, and %s text here.\"%(x,y))"
      ],
      "execution_count": null,
      "outputs": [
        {
          "output_type": "stream",
          "text": [
            "I'm going to inject some text here, and more text here.\n"
          ],
          "name": "stdout"
        }
      ]
    },
    {
      "cell_type": "markdown",
      "metadata": {
        "id": "5GYNW128TBNs"
      },
      "source": [
        "### Format conversion methods.\n",
        "It should be noted that two methods <code>%s</code> and <code>%r</code> convert any python object to a string using two separate methods: `str()` and `repr()`. We will learn more about these functions later on in the course, but you should note that `%r` and `repr()` deliver the *string representation* of the object, including quotation marks and any escape characters."
      ]
    },
    {
      "cell_type": "code",
      "metadata": {
        "id": "xc0YJqEPTBNt",
        "outputId": "25d309ed-e8c8-49b9-9c74-79d509656cd3"
      },
      "source": [
        "print('He said his name was %s.' %'Fred')\n",
        "print('He said his name was %r.' %'Fred')"
      ],
      "execution_count": null,
      "outputs": [
        {
          "output_type": "stream",
          "text": [
            "He said his name was Fred.\n",
            "He said his name was 'Fred'.\n"
          ],
          "name": "stdout"
        }
      ]
    },
    {
      "cell_type": "markdown",
      "metadata": {
        "id": "DPhgkb6VTBNv"
      },
      "source": [
        "As another example, `\\t` inserts a tab into a string."
      ]
    },
    {
      "cell_type": "code",
      "metadata": {
        "colab": {
          "base_uri": "https://localhost:8080/"
        },
        "id": "qYE9sxh-TBNw",
        "outputId": "334b3b99-9998-408c-be3e-ceebbfd57e87"
      },
      "source": [
        "print('I once caught a fish %s.' %'this \\tbig')\n",
        "print('I once caught a fish %r.' %'this \\tbig')"
      ],
      "execution_count": 1,
      "outputs": [
        {
          "output_type": "stream",
          "text": [
            "I once caught a fish this \tbig.\n",
            "I once caught a fish 'this \\tbig'.\n"
          ],
          "name": "stdout"
        }
      ]
    },
    {
      "cell_type": "markdown",
      "metadata": {
        "id": "eRO7ijs0TBNx"
      },
      "source": [
        "The `%s` operator converts whatever it sees into a string, including integers and floats. The `%d` operator converts numbers to integers first, without rounding. Note the difference below:"
      ]
    },
    {
      "cell_type": "code",
      "metadata": {
        "id": "0EOEciIjTBNx",
        "outputId": "c2e1da5c-454f-447f-ffb5-d459419ed147"
      },
      "source": [
        "print('I wrote %s programs today.' %3.75)\n",
        "print('I wrote %d programs today.' %3.75)   "
      ],
      "execution_count": null,
      "outputs": [
        {
          "output_type": "stream",
          "text": [
            "I wrote 3.75 programs today.\n",
            "I wrote 3 programs today.\n"
          ],
          "name": "stdout"
        }
      ]
    },
    {
      "cell_type": "markdown",
      "metadata": {
        "id": "EHQOL_c0TBNx"
      },
      "source": [
        "### Padding and Precision of Floating Point Numbers\n",
        "Floating point numbers use the format <code>%5.2f</code>. Here, <code>5</code> would be the minimum number of characters the string should contain; these may be padded with whitespace if the entire number does not have this many digits. Next to this, <code>.2f</code> stands for how many numbers to show past the decimal point. Let's see some examples:"
      ]
    },
    {
      "cell_type": "code",
      "metadata": {
        "id": "OZmxRZH_TBNy",
        "outputId": "1d9429e1-2342-4600-926c-5209d0d7341d"
      },
      "source": [
        "print('Floating point numbers: %5.2f' %(13.144))"
      ],
      "execution_count": null,
      "outputs": [
        {
          "output_type": "stream",
          "text": [
            "Floating point numbers: 13.14\n"
          ],
          "name": "stdout"
        }
      ]
    },
    {
      "cell_type": "code",
      "metadata": {
        "id": "WXoEWHs9TBNy",
        "outputId": "6573b9b1-d130-445a-f261-32ce7011d6e8"
      },
      "source": [
        "print('Floating point numbers: %1.0f' %(13.144))"
      ],
      "execution_count": null,
      "outputs": [
        {
          "output_type": "stream",
          "text": [
            "Floating point numbers: 13\n"
          ],
          "name": "stdout"
        }
      ]
    },
    {
      "cell_type": "code",
      "metadata": {
        "id": "8O9ob2qJTBNy",
        "outputId": "5f8c0c34-1a75-42ed-8fc6-1a55ded869fd"
      },
      "source": [
        "print('Floating point numbers: %1.5f' %(13.144))"
      ],
      "execution_count": null,
      "outputs": [
        {
          "output_type": "stream",
          "text": [
            "Floating point numbers: 13.14400\n"
          ],
          "name": "stdout"
        }
      ]
    },
    {
      "cell_type": "code",
      "metadata": {
        "id": "bgh38HfVTBNz",
        "outputId": "d997f311-6644-4766-f61c-5313a9ceab41"
      },
      "source": [
        "print('Floating point numbers: %10.2f' %(13.144))"
      ],
      "execution_count": null,
      "outputs": [
        {
          "output_type": "stream",
          "text": [
            "Floating point numbers:      13.14\n"
          ],
          "name": "stdout"
        }
      ]
    },
    {
      "cell_type": "code",
      "metadata": {
        "id": "BhNb5On6TBNz",
        "outputId": "10a6af43-10b7-4cfd-9a9d-88f8c9bd5fdd"
      },
      "source": [
        "print('Floating point numbers: %25.2f' %(13.144))"
      ],
      "execution_count": null,
      "outputs": [
        {
          "output_type": "stream",
          "text": [
            "Floating point numbers:                     13.14\n"
          ],
          "name": "stdout"
        }
      ]
    },
    {
      "cell_type": "markdown",
      "metadata": {
        "id": "Ol2LaTaiTBNz"
      },
      "source": [
        "### Multiple Formatting\n",
        "Nothing prohibits using more than one conversion tool in the same print statement:"
      ]
    },
    {
      "cell_type": "code",
      "metadata": {
        "id": "0VlBbu57TBNz",
        "outputId": "cb9e2366-b461-4235-c25a-a37a45642a67"
      },
      "source": [
        "print('First: %s, Second: %5.2f, Third: %r' %('hi!',3.1415,'bye!'))"
      ],
      "execution_count": null,
      "outputs": [
        {
          "output_type": "stream",
          "text": [
            "First: hi!, Second:  3.14, Third: 'bye!'\n"
          ],
          "name": "stdout"
        }
      ]
    },
    {
      "cell_type": "markdown",
      "metadata": {
        "id": "G6fKxdnFTBN0"
      },
      "source": [
        "## Formatting with the `.format()` method\n",
        "A better way to format objects into your strings for print statements is with the string `.format()` method. The syntax is:\n",
        "\n",
        "    'String here {} then also {}'.format('something1','something2')\n",
        "    \n",
        "For example:"
      ]
    },
    {
      "cell_type": "code",
      "metadata": {
        "id": "Q5dAoex0TBN0",
        "outputId": "e7ac00df-eb04-46b3-eddc-2e5ee555e020"
      },
      "source": [
        "print('This is a string with an {}'.format('insert'))"
      ],
      "execution_count": null,
      "outputs": [
        {
          "output_type": "stream",
          "text": [
            "This is a string with an insert\n"
          ],
          "name": "stdout"
        }
      ]
    },
    {
      "cell_type": "markdown",
      "metadata": {
        "id": "UfD-RUFoTBN0"
      },
      "source": [
        "### The .format() method has several advantages over the %s placeholder method:"
      ]
    },
    {
      "cell_type": "markdown",
      "metadata": {
        "id": "KCCGmmjHTBN0"
      },
      "source": [
        "#### 1. Inserted objects can be called by index position:"
      ]
    },
    {
      "cell_type": "code",
      "metadata": {
        "id": "wQUonrCpTBN0",
        "outputId": "2ca1251c-81e0-4f8c-bc7c-bf7fdd68ed7f"
      },
      "source": [
        "print('The {2} {1} {0}'.format('fox','brown','quick'))"
      ],
      "execution_count": null,
      "outputs": [
        {
          "output_type": "stream",
          "text": [
            "The quick brown fox\n"
          ],
          "name": "stdout"
        }
      ]
    },
    {
      "cell_type": "markdown",
      "metadata": {
        "id": "eDTiiXD1TBN1"
      },
      "source": [
        "#### 2. Inserted objects can be assigned keywords:"
      ]
    },
    {
      "cell_type": "code",
      "metadata": {
        "id": "3K45NVzqTBN1",
        "outputId": "406d50c5-c205-4cb7-fd36-1f263f138059"
      },
      "source": [
        "print('First Object: {a}, Second Object: {b}, Third Object: {c}'.format(a=1,b='Two',c=12.3))"
      ],
      "execution_count": null,
      "outputs": [
        {
          "output_type": "stream",
          "text": [
            "First Object: 1, Second Object: Two, Third Object: 12.3\n"
          ],
          "name": "stdout"
        }
      ]
    },
    {
      "cell_type": "markdown",
      "metadata": {
        "id": "5XFxOHYXTBN1"
      },
      "source": [
        "#### 3. Inserted objects can be reused, avoiding duplication:"
      ]
    },
    {
      "cell_type": "code",
      "metadata": {
        "id": "ij2ro0gKTBN1",
        "outputId": "fcd4b9b8-687d-43f3-bdee-1df38e6c3f02"
      },
      "source": [
        "print('A %s saved is a %s earned.' %('penny','penny'))\n",
        "# vs.\n",
        "print('A {p} saved is a {p} earned.'.format(p='penny'))"
      ],
      "execution_count": null,
      "outputs": [
        {
          "output_type": "stream",
          "text": [
            "A penny saved is a penny earned.\n",
            "A penny saved is a penny earned.\n"
          ],
          "name": "stdout"
        }
      ]
    },
    {
      "cell_type": "markdown",
      "metadata": {
        "id": "aVxXL7ylTBN2"
      },
      "source": [
        "### Alignment, padding and precision with `.format()`\n",
        "Within the curly braces you can assign field lengths, left/right alignments, rounding parameters and more"
      ]
    },
    {
      "cell_type": "code",
      "metadata": {
        "id": "Ku4U3AVmTBN2",
        "outputId": "a2223d0a-c28e-4448-e032-4495c6e1e070"
      },
      "source": [
        "print('{0:8} | {1:9}'.format('Fruit', 'Quantity'))\n",
        "print('{0:8} | {1:9}'.format('Apples', 3.))\n",
        "print('{0:8} | {1:9}'.format('Oranges', 10))"
      ],
      "execution_count": null,
      "outputs": [
        {
          "output_type": "stream",
          "text": [
            "Fruit    | Quantity \n",
            "Apples   |       3.0\n",
            "Oranges  |        10\n"
          ],
          "name": "stdout"
        }
      ]
    },
    {
      "cell_type": "markdown",
      "metadata": {
        "id": "9M-Hg0hlTBN2"
      },
      "source": [
        "By default, `.format()` aligns text to the left, numbers to the right. You can pass an optional `<`,`^`, or `>` to set a left, center or right alignment:"
      ]
    },
    {
      "cell_type": "code",
      "metadata": {
        "id": "q7X1UsVBTBN3",
        "outputId": "162dd56d-f226-42e6-de5e-e780ade51430"
      },
      "source": [
        "print('{0:<8} | {1:^8} | {2:>8}'.format('Left','Center','Right'))\n",
        "print('{0:<8} | {1:^8} | {2:>8}'.format(11,22,33))"
      ],
      "execution_count": null,
      "outputs": [
        {
          "output_type": "stream",
          "text": [
            "Left     |  Center  |    Right\n",
            "11       |    22    |       33\n"
          ],
          "name": "stdout"
        }
      ]
    },
    {
      "cell_type": "markdown",
      "metadata": {
        "id": "xk7KuhCITBN3"
      },
      "source": [
        "You can precede the aligment operator with a padding character"
      ]
    },
    {
      "cell_type": "code",
      "metadata": {
        "id": "_6q0Zyh1TBN3",
        "outputId": "0f68a13d-f17d-4178-9a88-b8c7951e73f5"
      },
      "source": [
        "print('{0:=<8} | {1:-^8} | {2:.>8}'.format('Left','Center','Right'))\n",
        "print('{0:=<8} | {1:-^8} | {2:.>8}'.format(11,22,33))"
      ],
      "execution_count": null,
      "outputs": [
        {
          "output_type": "stream",
          "text": [
            "Left==== | -Center- | ...Right\n",
            "11====== | ---22--- | ......33\n"
          ],
          "name": "stdout"
        }
      ]
    },
    {
      "cell_type": "markdown",
      "metadata": {
        "id": "kun-MudYTBN3"
      },
      "source": [
        "Field widths and float precision are handled in a way similar to placeholders. The following two print statements are equivalent:"
      ]
    },
    {
      "cell_type": "code",
      "metadata": {
        "id": "MnUfQbOpTBN3",
        "outputId": "7e13c7a4-dd6b-48cc-a314-fe9ae8166713"
      },
      "source": [
        "print('This is my ten-character, two-decimal number:%10.2f' %13.579)\n",
        "print('This is my ten-character, two-decimal number:{0:10.2f}'.format(13.579))"
      ],
      "execution_count": null,
      "outputs": [
        {
          "output_type": "stream",
          "text": [
            "This is my ten-character, two-decimal number:     13.58\n",
            "This is my ten-character, two-decimal number:     13.58\n"
          ],
          "name": "stdout"
        }
      ]
    },
    {
      "cell_type": "markdown",
      "metadata": {
        "id": "S42G6M0UTBN4"
      },
      "source": [
        "Note that there are 5 spaces following the colon, and 5 characters taken up by 13.58, for a total of ten characters."
      ]
    },
    {
      "cell_type": "markdown",
      "metadata": {
        "id": "8IwPCKpcTBN4"
      },
      "source": [
        "## Formatted String Literals (f-strings)"
      ]
    },
    {
      "cell_type": "markdown",
      "metadata": {
        "id": "pzsNnmoYTBN4"
      },
      "source": [
        "Introduced in Python 3.6, f-strings offer several benefits over the older `.format()` string method described above. For one, you can bring outside variables immediately into to the string rather than pass them as arguments through `.format(var)`."
      ]
    },
    {
      "cell_type": "code",
      "metadata": {
        "id": "9QL-Xn6uTBN4",
        "outputId": "bf35635a-3375-4cd0-f1ae-2074e4f2f3ec"
      },
      "source": [
        "name = 'Fred'\n",
        "\n",
        "print(f\"He said his name is {name}.\")"
      ],
      "execution_count": null,
      "outputs": [
        {
          "output_type": "stream",
          "text": [
            "He said his name is Fred.\n"
          ],
          "name": "stdout"
        }
      ]
    },
    {
      "cell_type": "markdown",
      "metadata": {
        "id": "4Be9DoK_TBN5"
      },
      "source": [
        "Pass `!r` to get the string representation:"
      ]
    },
    {
      "cell_type": "code",
      "metadata": {
        "id": "EBm8me2kTBN5",
        "outputId": "33883731-337b-42d8-8947-147b5d5df973"
      },
      "source": [
        "print(f\"He said his name is {name!r}\")"
      ],
      "execution_count": null,
      "outputs": [
        {
          "output_type": "stream",
          "text": [
            "He said his name is 'Fred'\n"
          ],
          "name": "stdout"
        }
      ]
    },
    {
      "cell_type": "markdown",
      "metadata": {
        "id": "by-PlDaqTBN5"
      },
      "source": [
        "#### Float formatting follows `\"result: {value:{width}.{precision}}\"`"
      ]
    },
    {
      "cell_type": "markdown",
      "metadata": {
        "id": "oB5MzmgXTBN5"
      },
      "source": [
        "Where with the `.format()` method you might see `{value:10.4f}`, with f-strings this can become `{value:{10}.{6}}`\n"
      ]
    },
    {
      "cell_type": "code",
      "metadata": {
        "id": "jTMLmu1wTBN5",
        "outputId": "7be5b7e3-9b13-474f-8721-eae29aac191b"
      },
      "source": [
        "num = 23.45678\n",
        "print(\"My 10 character, four decimal number is:{0:10.4f}\".format(num))\n",
        "print(f\"My 10 character, four decimal number is:{num:{10}.{6}}\")"
      ],
      "execution_count": null,
      "outputs": [
        {
          "output_type": "stream",
          "text": [
            "My 10 character, four decimal number is:   23.4568\n",
            "My 10 character, four decimal number is:   23.4568\n"
          ],
          "name": "stdout"
        }
      ]
    },
    {
      "cell_type": "markdown",
      "metadata": {
        "id": "NzBCc9Z0TBN5"
      },
      "source": [
        "Note that with f-strings, *precision* refers to the total number of digits, not just those following the decimal. This fits more closely with scientific notation and statistical analysis. Unfortunately, f-strings do not pad to the right of the decimal, even if precision allows it:"
      ]
    },
    {
      "cell_type": "code",
      "metadata": {
        "id": "uptwNUmuTBN5",
        "outputId": "a3f456af-7ae3-439d-cd67-8c25c7d90b04"
      },
      "source": [
        "num = 23.45\n",
        "print(\"My 10 character, four decimal number is:{0:10.4f}\".format(num))\n",
        "print(f\"My 10 character, four decimal number is:{num:{10}.{6}}\")"
      ],
      "execution_count": null,
      "outputs": [
        {
          "output_type": "stream",
          "text": [
            "My 10 character, four decimal number is:   23.4500\n",
            "My 10 character, four decimal number is:     23.45\n"
          ],
          "name": "stdout"
        }
      ]
    },
    {
      "cell_type": "markdown",
      "metadata": {
        "id": "ZYgXslqYTBN6"
      },
      "source": [
        "If this becomes important, you can always use `.format()` method syntax inside an f-string:"
      ]
    },
    {
      "cell_type": "code",
      "metadata": {
        "id": "sqs5q6xoTBN6",
        "outputId": "0d84fcb5-b50c-478a-ad39-226e5a94d930"
      },
      "source": [
        "num = 23.45\n",
        "print(\"My 10 character, four decimal number is:{0:10.4f}\".format(num))\n",
        "print(f\"My 10 character, four decimal number is:{num:10.4f}\")"
      ],
      "execution_count": null,
      "outputs": [
        {
          "output_type": "stream",
          "text": [
            "My 10 character, four decimal number is:   23.4500\n",
            "My 10 character, four decimal number is:   23.4500\n"
          ],
          "name": "stdout"
        }
      ]
    }
  ]
}